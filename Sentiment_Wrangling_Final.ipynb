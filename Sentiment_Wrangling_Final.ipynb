{
  "cells": [
    {
      "cell_type": "markdown",
      "metadata": {
        "id": "view-in-github",
        "colab_type": "text"
      },
      "source": [
        "<a href=\"https://colab.research.google.com/github/AlbertV100/Spring/blob/main/Sentiment_Wrangling_Final.ipynb\" target=\"_parent\"><img src=\"https://colab.research.google.com/assets/colab-badge.svg\" alt=\"Open In Colab\"/></a>"
      ]
    },
    {
      "cell_type": "markdown",
      "id": "7b01dfed",
      "metadata": {
        "id": "7b01dfed"
      },
      "source": [
        "\n",
        "# 🧹 Data Wrangling (Final) — TweetEval Sentiment\n",
        "\n",
        "This notebook implements **production-grade data wrangling** for a sentiment analysis project using the **TweetEval** dataset on Hugging Face. It is aligned to the Capstone **Data Wrangling** rubric and includes:\n",
        "- **Data Collection** (load + snapshot)\n",
        "- **Data Organization** (folders, reproducibility)\n",
        "- **Data Definition** (schema, types, ranges, distributions)\n",
        "- **Data Cleaning** (NAs, duplicates, robust text cleaning)\n",
        "\n",
        "> Ready to run in **Google Colab**. If a package is missing, the install cell will handle it.\n"
      ]
    },
    {
      "cell_type": "code",
      "execution_count": 1,
      "id": "802c7934",
      "metadata": {
        "id": "802c7934"
      },
      "outputs": [],
      "source": [
        "\n",
        "#@title ✅ Optional: Install/upgrade dependencies (Colab-friendly)\n",
        "# If running in Colab, you may uncomment the next line.\n",
        "# !pip -q install -U datasets\n"
      ]
    },
    {
      "cell_type": "code",
      "execution_count": 2,
      "id": "2d67d0e0",
      "metadata": {
        "colab": {
          "base_uri": "https://localhost:8080/"
        },
        "id": "2d67d0e0",
        "outputId": "2da9f827-f932-4655-9eab-7e2e39f57e5a"
      },
      "outputs": [
        {
          "output_type": "stream",
          "name": "stdout",
          "text": [
            "Python: 3.12.11\n",
            "Executable: /usr/bin/python3\n"
          ]
        }
      ],
      "source": [
        "\n",
        "# === Reproducibility & Setup ===\n",
        "RANDOM_SEED = 42\n",
        "\n",
        "import os, sys, platform, math, re, json, random\n",
        "random.seed(RANDOM_SEED)\n",
        "\n",
        "print(\"Python:\", platform.python_version())\n",
        "print(\"Executable:\", sys.executable)\n",
        "\n",
        "# Avoid noisy scientific output defaults\n",
        "import warnings\n",
        "warnings.filterwarnings(\"ignore\")\n"
      ]
    },
    {
      "cell_type": "markdown",
      "id": "7785eb5f",
      "metadata": {
        "id": "7785eb5f"
      },
      "source": [
        "\n",
        "## 1) Data Collection\n",
        "\n",
        "We load the **TweetEval (sentiment)** dataset using Hugging Face `datasets`. We keep data in its native Arrow format for fast, memory-efficient transforms, converting to pandas **only when needed** (e.g., for quick tabular inspection or plotting).\n"
      ]
    },
    {
      "cell_type": "code",
      "execution_count": 3,
      "id": "767afa0c",
      "metadata": {
        "colab": {
          "base_uri": "https://localhost:8080/"
        },
        "id": "767afa0c",
        "outputId": "68c32760-88de-4044-95b4-8e806f277d51"
      },
      "outputs": [
        {
          "output_type": "execute_result",
          "data": {
            "text/plain": [
              "(Dataset({\n",
              "     features: ['text', 'label'],\n",
              "     num_rows: 45615\n",
              " }),\n",
              " Dataset({\n",
              "     features: ['text', 'label'],\n",
              "     num_rows: 2000\n",
              " }),\n",
              " Dataset({\n",
              "     features: ['text', 'label'],\n",
              "     num_rows: 12284\n",
              " }))"
            ]
          },
          "metadata": {},
          "execution_count": 3
        }
      ],
      "source": [
        "\n",
        "from datasets import load_dataset\n",
        "\n",
        "# Load the TweetEval sentiment task\n",
        "ds = load_dataset(\"tweet_eval\", \"sentiment\")\n",
        "train_ds = ds[\"train\"]\n",
        "val_ds   = ds[\"validation\"]\n",
        "test_ds  = ds[\"test\"]\n",
        "\n",
        "train_ds, val_ds, test_ds\n"
      ]
    },
    {
      "cell_type": "markdown",
      "id": "953b649d",
      "metadata": {
        "id": "953b649d"
      },
      "source": [
        "\n",
        "## 2) Data Organization\n",
        "\n",
        "- Create a simple project structure for Colab runtime:\n",
        "```\n",
        "/content/\n",
        "  ├── data/\n",
        "  │   ├── raw/\n",
        "  │   └── processed/\n",
        "  └── outputs/\n",
        "```\n",
        "- Save a **raw snapshot** (CSV) for traceability.\n"
      ]
    },
    {
      "cell_type": "code",
      "execution_count": 4,
      "id": "cdd67919",
      "metadata": {
        "id": "cdd67919"
      },
      "outputs": [],
      "source": [
        "\n",
        "# Create folders\n",
        "base_dir = \"/content\"\n",
        "data_dir = os.path.join(base_dir, \"data\")\n",
        "raw_dir = os.path.join(data_dir, \"raw\")\n",
        "proc_dir = os.path.join(data_dir, \"processed\")\n",
        "out_dir = os.path.join(base_dir, \"outputs\")\n",
        "\n",
        "for d in [data_dir, raw_dir, proc_dir, out_dir]:\n",
        "    os.makedirs(d, exist_ok=True)\n",
        "\n",
        "raw_snapshot_path = os.path.join(raw_dir, \"tweeteval_train_raw.csv\")\n"
      ]
    },
    {
      "cell_type": "code",
      "execution_count": 5,
      "id": "32c2fbd7",
      "metadata": {
        "colab": {
          "base_uri": "https://localhost:8080/"
        },
        "id": "32c2fbd7",
        "outputId": "43e9b579-3f40-4db5-c8ef-edad66bf8890"
      },
      "outputs": [
        {
          "output_type": "stream",
          "name": "stdout",
          "text": [
            "Raw snapshot saved to: /content/data/raw/tweeteval_train_raw.csv | shape: (45615, 2)\n"
          ]
        }
      ],
      "source": [
        "\n",
        "# Save a raw snapshot of the training split for traceability\n",
        "import pandas as pd\n",
        "\n",
        "train_raw_df = pd.DataFrame(train_ds[:])\n",
        "train_raw_df.to_csv(raw_snapshot_path, index=False)\n",
        "print(\"Raw snapshot saved to:\", raw_snapshot_path, \"| shape:\", train_raw_df.shape)\n"
      ]
    },
    {
      "cell_type": "markdown",
      "id": "4388fd81",
      "metadata": {
        "id": "4388fd81"
      },
      "source": [
        "\n",
        "## 3) Data Definition\n",
        "\n",
        "We examine:\n",
        "- Column names and data types\n",
        "- Value ranges and distributions (label counts)\n",
        "- A few random examples\n"
      ]
    },
    {
      "cell_type": "code",
      "execution_count": 6,
      "id": "1d3bafb4",
      "metadata": {
        "colab": {
          "base_uri": "https://localhost:8080/"
        },
        "id": "1d3bafb4",
        "outputId": "dd3542bf-467c-4be7-e353-c0831741ff67"
      },
      "outputs": [
        {
          "output_type": "stream",
          "name": "stdout",
          "text": [
            "Columns: ['text', 'label']\n",
            "\n",
            "Data types:\n",
            "text     object\n",
            "label     int64\n",
            "dtype: object\n",
            "\n",
            "Label counts (train):\n",
            " label\n",
            "0     7093\n",
            "1    20673\n",
            "2    17849\n",
            "\n",
            "Label proportions (train):\n",
            " label\n",
            "0    0.1555\n",
            "1    0.4532\n",
            "2    0.3913\n",
            "\n",
            "Sample texts:\n",
            "- label=0 | text='I forgot all about Ice Cube being in the movie First Sunday. I think I seen this shit in the theaters.'\n",
            "- label=1 | text='playoffs are finally set. Chardon plays warren howland in the 1st round. if we win\\\\u002c we play the winner of kenston v. tallmadge.'\n",
            "- label=1 | text='Are we just going to ignore the fact that Ice Cube got his ass whoop by Ricky Smiley at the beginning of Friday After Next???'\n"
          ]
        }
      ],
      "source": [
        "\n",
        "# Column names, dtypes (via pandas for convenience)\n",
        "print(\"Columns:\", train_raw_df.columns.tolist())\n",
        "print(\"\\nData types:\")\n",
        "print(train_raw_df.dtypes)\n",
        "\n",
        "# Label distribution (train)\n",
        "label_counts = train_raw_df[\"label\"].value_counts().sort_index()\n",
        "label_probs  = (label_counts / label_counts.sum()).round(4)\n",
        "print(\"\\nLabel counts (train):\\n\", label_counts.to_string())\n",
        "print(\"\\nLabel proportions (train):\\n\", label_probs.to_string())\n",
        "\n",
        "# Peek at examples\n",
        "print(\"\\nSample texts:\")\n",
        "for i, row in train_raw_df.sample(3, random_state=42).iterrows():\n",
        "    print(f\"- label={row['label']} | text={row['text'][:160]!r}\")\n"
      ]
    },
    {
      "cell_type": "markdown",
      "id": "6e89992c",
      "metadata": {
        "id": "6e89992c"
      },
      "source": [
        "\n",
        "## 4) Data Cleaning\n",
        "\n",
        "We will:\n",
        "1. **Log initial shape**\n",
        "2. **Assess missing values**\n",
        "3. **Drop rows with null/empty `text` or `label`**\n",
        "4. **Drop duplicate texts**\n",
        "5. **Normalize text** (lowercase, strip URLs/mentions/hashtags/punct/digits)\n",
        "6. **Map numeric labels** → `negative`/`neutral`/`positive`\n",
        "7. **Log final shape**\n"
      ]
    },
    {
      "cell_type": "code",
      "execution_count": 7,
      "id": "018a1507",
      "metadata": {
        "colab": {
          "base_uri": "https://localhost:8080/"
        },
        "id": "018a1507",
        "outputId": "3abb8ffa-4350-4b75-96ce-f2466a9481ee"
      },
      "outputs": [
        {
          "output_type": "stream",
          "name": "stdout",
          "text": [
            "Initial shape (rows, cols): (45615, 2)\n",
            "\n",
            "Missing values per column:\n",
            " text     0\n",
            "label    0\n"
          ]
        }
      ],
      "source": [
        "\n",
        "# Initial shape\n",
        "init_shape = train_raw_df.shape\n",
        "print(\"Initial shape (rows, cols):\", init_shape)\n",
        "\n",
        "# Missing values report\n",
        "mv = train_raw_df.isnull().sum().sort_values(ascending=False)\n",
        "print(\"\\nMissing values per column:\\n\", mv.to_string())\n"
      ]
    },
    {
      "cell_type": "code",
      "execution_count": 8,
      "id": "45583907",
      "metadata": {
        "colab": {
          "base_uri": "https://localhost:8080/"
        },
        "id": "45583907",
        "outputId": "f1f14914-f035-4d6d-e746-3e032016f09f"
      },
      "outputs": [
        {
          "output_type": "stream",
          "name": "stdout",
          "text": [
            "Dropped duplicates: 29\n"
          ]
        }
      ],
      "source": [
        "\n",
        "# Drop NA for critical columns\n",
        "clean_df = train_raw_df.dropna(subset=[\"text\", \"label\"]).copy()\n",
        "\n",
        "# Drop duplicate texts (keep first instance)\n",
        "before_dups = clean_df.shape[0]\n",
        "clean_df = clean_df.drop_duplicates(subset=[\"text\"])\n",
        "after_dups = clean_df.shape[0]\n",
        "print(f\"Dropped duplicates: {before_dups - after_dups}\")\n"
      ]
    },
    {
      "cell_type": "code",
      "execution_count": 9,
      "id": "dfb6fd03",
      "metadata": {
        "id": "dfb6fd03"
      },
      "outputs": [],
      "source": [
        "\n",
        "# Robust tweet cleaning\n",
        "def clean_tweet(text: str) -> str:\n",
        "    t = text.lower()\n",
        "    t = re.sub(r\"http\\S+|www\\S+\", \"\", t)   # URLs\n",
        "    t = re.sub(r\"@\\w+|#\\w+\", \"\", t)        # mentions & hashtags (remove handles/hashtags)\n",
        "    t = re.sub(r\"[^\\w\\s]\", \"\", t)          # punctuation/symbols\n",
        "    t = re.sub(r\"\\d+\", \"\", t)               # digits\n",
        "    t = re.sub(r\"\\s+\", \" \", t)              # squeeze whitespace\n",
        "    return t.strip()\n",
        "\n",
        "clean_df[\"clean_text\"] = clean_df[\"text\"].apply(clean_tweet)\n"
      ]
    },
    {
      "cell_type": "code",
      "execution_count": 10,
      "id": "1193fbc8",
      "metadata": {
        "colab": {
          "base_uri": "https://localhost:8080/"
        },
        "id": "1193fbc8",
        "outputId": "f9a5127c-fa10-4e1f-8554-e51c2b6223c7"
      },
      "outputs": [
        {
          "output_type": "stream",
          "name": "stdout",
          "text": [
            "Dropped empty-after-cleaning rows: 1\n",
            "Final shape (rows, cols): (45585, 4)\n"
          ]
        }
      ],
      "source": [
        "\n",
        "# Map labels to human-readable classes\n",
        "label_map = {0: \"negative\", 1: \"neutral\", 2: \"positive\"}\n",
        "clean_df[\"sentiment\"] = clean_df[\"label\"].map(label_map)\n",
        "\n",
        "# Remove any rows that became empty after cleaning\n",
        "before_empty = clean_df.shape[0]\n",
        "clean_df = clean_df[clean_df[\"clean_text\"].str.len() > 0].copy()\n",
        "after_empty = clean_df.shape[0]\n",
        "print(f\"Dropped empty-after-cleaning rows: {before_empty - after_empty}\")\n",
        "\n",
        "# Final shape\n",
        "final_shape = clean_df.shape\n",
        "print(\"Final shape (rows, cols):\", final_shape)\n"
      ]
    },
    {
      "cell_type": "markdown",
      "id": "37c53d5c",
      "metadata": {
        "id": "37c53d5c"
      },
      "source": [
        "\n",
        "### 4.1 Label Distribution (Post-Cleaning)\n"
      ]
    },
    {
      "cell_type": "code",
      "execution_count": 11,
      "id": "c37fa041",
      "metadata": {
        "colab": {
          "base_uri": "https://localhost:8080/",
          "height": 407
        },
        "id": "c37fa041",
        "outputId": "c02858a9-8277-465c-ad68-3f2eabc8f3d7"
      },
      "outputs": [
        {
          "output_type": "display_data",
          "data": {
            "text/plain": [
              "<Figure size 600x400 with 1 Axes>"
            ],
            "image/png": "[encoded data removed]"
          },
          "metadata": {}
        }
      ],
      "source": [
        "\n",
        "# Plot with matplotlib (Colab-friendly, no styling assumptions)\n",
        "import matplotlib.pyplot as plt\n",
        "\n",
        "counts = clean_df[\"sentiment\"].value_counts().reindex([\"negative\",\"neutral\",\"positive\"])\n",
        "plt.figure(figsize=(6,4))\n",
        "counts.plot(kind=\"bar\")\n",
        "plt.title(\"Label Distribution (Post-Cleaning)\")\n",
        "plt.xlabel(\"Sentiment\")\n",
        "plt.ylabel(\"Count\")\n",
        "plt.tight_layout()\n",
        "plt.show()\n"
      ]
    },
    {
      "cell_type": "markdown",
      "id": "69cdd0e5",
      "metadata": {
        "id": "69cdd0e5"
      },
      "source": [
        "\n",
        "## 5) Save Processed Output\n",
        "\n",
        "We persist a **processed CSV** for downstream modeling (TF‑IDF, classical ML, or LLM baselines).\n"
      ]
    },
    {
      "cell_type": "markdown",
      "id": "814e8eec",
      "metadata": {
        "id": "814e8eec"
      },
      "source": [
        "\n",
        "## ✅ Rubric Alignment - Rundown\n",
        "\n",
        "**Data Collection** — Loaded TweetEval via `datasets` and saved a raw snapshot for traceability.  \n",
        "**Data Organization** — Created `data/raw`, `data/processed`, and `outputs` directories; reproducibility seed.  \n",
        "**Data Definition** — Reported columns, dtypes, label counts/proportions, and examples.  \n",
        "**Data Cleaning** — Addressed missing values, duplicates, normalization of text, label mapping, and verified final shape; plotted class distribution.\n",
        "\n",
        "> Next step: vectorization (TF‑IDF), train/validation split strategy, and classifier baselines.\n"
      ]
    },
    {
      "cell_type": "code",
      "execution_count": 12,
      "id": "227947f4",
      "metadata": {
        "colab": {
          "base_uri": "https://localhost:8080/"
        },
        "id": "227947f4",
        "outputId": "fb3ee92c-3d30-4564-dec1-5684a44b2baa"
      },
      "outputs": [
        {
          "output_type": "stream",
          "name": "stdout",
          "text": [
            "Processed CSV saved to: /content/data/processed/tweeteval_train_processed.csv | shape: (45585, 4)\n"
          ]
        }
      ],
      "source": [
        "\n",
        "processed_path = os.path.join(proc_dir, \"tweeteval_train_processed.csv\")\n",
        "cols_to_save = [\"text\", \"clean_text\", \"label\", \"sentiment\"]\n",
        "clean_df.to_csv(processed_path, index=False, columns=cols_to_save)\n",
        "print(\"Processed CSV saved to:\", processed_path, \"| shape:\", clean_df.shape)\n"
      ]
    }
  ],
  "metadata": {
    "colab": {
      "provenance": [],
      "include_colab_link": true
    },
    "language_info": {
      "name": "python"
    },
    "kernelspec": {
      "name": "python3",
      "display_name": "Python 3"
    }
  },
  "nbformat": 4,
  "nbformat_minor": 5
}