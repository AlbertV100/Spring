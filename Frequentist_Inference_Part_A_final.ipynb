{
 "cells": [
  {
   "cell_type": "markdown",
   "metadata": {},
   "source": [
    "# Frequentist Inference Case Study - Part A "
   ]
  },
  {
   "cell_type": "markdown",
   "metadata": {},
   "source": [
    "## 1. Learning objectives"
   ]
  },
  {
   "cell_type": "markdown",
   "metadata": {},
   "source": [
    "Welcome to part A of the Frequentist inference case study! The purpose of this case study is to help you apply the concepts associated with Frequentist inference in Python. Frequentist inference is the process of deriving conclusions about an underlying distribution via the observation of data. In particular, you'll practice writing Python code to apply the following statistical concepts: \n",
    "* the _z_-statistic\n",
    "* the _t_-statistic\n",
    "* the difference and relationship between the two\n",
    "* the Central Limit Theorem, including its assumptions and consequences\n",
    "* how to estimate the population mean and standard deviation from a sample\n",
    "* the concept of a sampling distribution of a test statistic, particularly for the mean\n",
    "* how to combine these concepts to calculate a confidence interval"
   ]
  },
  {
   "cell_type": "markdown",
   "metadata": {},
   "source": [
    "## Prerequisites"
   ]
  },
  {
   "cell_type": "markdown",
   "metadata": {},
   "source": [
    "To be able to complete this notebook, you are expected to have a basic understanding of:\n",
    "* what a random variable is (p.400 of Professor Spiegelhalter's *The Art of Statistics, hereinafter AoS*)\n",
    "* what a population, and a population distribution, are (p. 397 of *AoS*)\n",
    "* a high-level sense of what the normal distribution is (p. 394 of *AoS*)\n",
    "* what the t-statistic is (p. 275 of *AoS*)\n",
    "\n",
    "Happily, these should all be concepts with which you are reasonably familiar after having read ten chapters of Professor Spiegelhalter's book, *The Art of Statistics*.\n",
    "\n",
    "We'll try to relate the concepts in this case study back to page numbers in *The Art of Statistics* so that you can focus on the Python aspects of this case study. The second part (part B) of this case study will involve another, more real-world application of these tools. "
   ]
  },
  {
   "cell_type": "markdown",
   "metadata": {},
   "source": [
    "For this notebook, we will use data sampled from a known normal distribution. This allows us to compare our results with theoretical expectations."
   ]
  },
  {
   "cell_type": "markdown",
   "metadata": {},
   "source": [
    "## 2. An introduction to sampling from the normal distribution"
   ]
  },
  {
   "cell_type": "markdown",
   "metadata": {},
   "source": [
    "First, let's explore the ways we can generate the normal distribution. While there's a fair amount of interest in [sklearn](https://scikit-learn.org/stable/) within the machine learning community, you're likely to have heard of [scipy](https://docs.scipy.org/doc/scipy-0.15.1/reference/index.html) if you're coming from the sciences. For this assignment, you'll use [scipy.stats](https://docs.scipy.org/doc/scipy-0.15.1/reference/tutorial/stats.html) to complete your work. \n",
    "\n",
    "This assignment will require some digging around and getting your hands dirty (your learning is maximized that way)! You should have the research skills and the tenacity to do these tasks independently, but if you struggle, reach out to your immediate community and your mentor for help. "
   ]
  },
  {
   "cell_type": "code",
   "execution_count": 29,
   "metadata": {
    "execution": {
     "iopub.execute_input": "2025-09-08T21:28:17.892996Z",
     "iopub.status.busy": "2025-09-08T21:28:17.892697Z",
     "iopub.status.idle": "2025-09-08T21:28:20.665531Z",
     "shell.execute_reply": "2025-09-08T21:28:20.664896Z"
    }
   },
   "outputs": [],
   "source": [
    "from scipy.stats import norm\n",
    "from scipy.stats import t\n",
    "import numpy as np\n",
    "import pandas as pd\n",
    "from numpy.random import seed\n",
    "import matplotlib.pyplot as plt\n",
    "import warnings\n",
    "warnings.filterwarnings('ignore')"
   ]
  },
  {
   "cell_type": "markdown",
   "metadata": {},
   "source": [
    "__Q1:__ Call up the documentation for the `norm` function imported above. (Hint: that documentation is [here](https://docs.scipy.org/doc/scipy/reference/generated/scipy.stats.norm.html)). What is the second listed method?"
   ]
  },
  {
   "cell_type": "code",
   "execution_count": 2,
   "metadata": {
    "execution": {
     "iopub.execute_input": "2025-09-08T21:28:20.669734Z",
     "iopub.status.busy": "2025-09-08T21:28:20.669320Z",
     "iopub.status.idle": "2025-09-08T21:28:20.674006Z",
     "shell.execute_reply": "2025-09-08T21:28:20.673481Z"
    }
   },
   "outputs": [
    {
     "name": "stdout",
     "output_type": "stream",
     "text": [
      "A normal continuous random variable.\n",
      "\n",
      "    The location (``loc``) keyword specifies the mean.\n",
      "    The scale (``scale``) keyword specifies the standard deviation.\n",
      "\n",
      "    As an instance of the `rv_continuous` class, `norm` object inherits from it\n",
      "    a collection of generic methods (see below for the full list),\n",
      "    and completes them with details specific for this particular distribution.\n",
      "    \n",
      "    Methods\n",
      "    -------\n",
      "    rvs(loc=0, scale=1, size=1, random_state=None)\n",
      "        Random variates.\n",
      "    pdf\n"
     ]
    }
   ],
   "source": [
    "# Q1: Show SciPy's docs for `norm`. In a Jupyter notebook you could run `help(norm)` or `norm?`.\n",
    "doc = (norm.__doc__ or \"\")\n",
    "print(doc[:500])"
   ]
  },
  {
   "cell_type": "markdown",
   "metadata": {},
   "source": [
    "__A:__"
   ]
  },
  {
   "cell_type": "markdown",
   "metadata": {},
   "source": [
    "__Q2:__ Use the method that generates random variates to draw five samples from the standard normal distribution. "
   ]
  },
  {
   "cell_type": "markdown",
   "metadata": {},
   "source": [
    "__A:__"
   ]
  },
  {
   "cell_type": "code",
   "execution_count": 3,
   "metadata": {
    "execution": {
     "iopub.execute_input": "2025-09-08T21:28:20.770294Z",
     "iopub.status.busy": "2025-09-08T21:28:20.769957Z",
     "iopub.status.idle": "2025-09-08T21:28:20.774687Z",
     "shell.execute_reply": "2025-09-08T21:28:20.774209Z"
    }
   },
   "outputs": [
    {
     "name": "stdout",
     "output_type": "stream",
     "text": [
      "Five samples: [-0.84800948  1.30590636  0.92420797  0.6404118  -1.05473698]\n"
     ]
    }
   ],
   "source": [
    "seed(47)\n",
    "# Q2: Draw five samples from the standard normal distribution\n",
    "samples = norm.rvs(loc=0, scale=1, size=5)\n",
    "print(\"Five samples:\", samples)"
   ]
  },
  {
   "cell_type": "markdown",
   "metadata": {},
   "source": [
    "__Q3:__ What is the mean of this sample? Is it exactly equal to the value you expected? Hint: the sample was drawn from the standard normal distribution. If you want a reminder of the properties of this distribution, check out p. 85 of *AoS*. "
   ]
  },
  {
   "cell_type": "markdown",
   "metadata": {},
   "source": [
    "__A:__"
   ]
  },
  {
   "cell_type": "code",
   "execution_count": 4,
   "metadata": {
    "execution": {
     "iopub.execute_input": "2025-09-08T21:28:20.778662Z",
     "iopub.status.busy": "2025-09-08T21:28:20.778352Z",
     "iopub.status.idle": "2025-09-08T21:28:20.781907Z",
     "shell.execute_reply": "2025-09-08T21:28:20.781425Z"
    }
   },
   "outputs": [
    {
     "name": "stdout",
     "output_type": "stream",
     "text": [
      "Sample mean: 0.19355593334131074\n"
     ]
    }
   ],
   "source": [
    "# Q3: Calculate and print the mean of the five samples\n",
    "xbar = np.mean(samples)\n",
    "print(\"Sample mean:\", xbar)"
   ]
  },
  {
   "cell_type": "markdown",
   "metadata": {},
   "source": [
    "__Q4:__ What is the standard deviation of these numbers? Calculate this manually here as $\\sqrt{\\frac{\\sum_i(x_i - \\bar{x})^2}{n}}$ (This is just the definition of **standard deviation** given by Professor Spiegelhalter on p.403 of *AoS*). Hint: np.sqrt() and np.sum() will be useful here and remember that numPy supports [broadcasting](https://docs.scipy.org/doc/numpy/user/basics.broadcasting.html)."
   ]
  },
  {
   "cell_type": "markdown",
   "metadata": {},
   "source": [
    "__A:__"
   ]
  },
  {
   "cell_type": "code",
   "execution_count": 5,
   "metadata": {
    "execution": {
     "iopub.execute_input": "2025-09-08T21:28:20.784927Z",
     "iopub.status.busy": "2025-09-08T21:28:20.784727Z",
     "iopub.status.idle": "2025-09-08T21:28:20.788291Z",
     "shell.execute_reply": "2025-09-08T21:28:20.787811Z"
    }
   },
   "outputs": [
    {
     "name": "stdout",
     "output_type": "stream",
     "text": [
      "Population std (denominator=n): 0.9606195639478641\n"
     ]
    }
   ],
   "source": [
    "# Q4: Standard deviation of the five numbers using the population formula (denominator = n)\n",
    "n = samples.size\n",
    "s_pop = np.sqrt(np.sum((samples - xbar)**2) / n)\n",
    "print(\"Population std (denominator=n):\", s_pop)"
   ]
  },
  {
   "cell_type": "markdown",
   "metadata": {},
   "source": [
    "Here we have calculated the actual standard deviation of a small data set (of size 5). But in this case, this small data set is actually a sample from our larger (infinite) population. In this case, the population is infinite because we could keep drawing our normal random variates until our computers die! \n",
    "\n",
    "In general, the sample mean we calculate will not be equal to the population mean (as we saw above). A consequence of this is that the sum of squares of the deviations from the _population_ mean will be bigger than the sum of squares of the deviations from the _sample_ mean. In other words, the sum of squares of the deviations from the _sample_ mean is too small to give an unbiased estimate of the _population_ variance. An example of this effect is given [here](https://en.wikipedia.org/wiki/Bessel%27s_correction#Source_of_bias). Scaling our estimate of the variance by the factor $n/(n-1)$ gives an unbiased estimator of the population variance. This factor is known as [Bessel's correction](https://en.wikipedia.org/wiki/Bessel%27s_correction). The consequence of this is that the $n$ in the denominator is replaced by $n-1$.\n",
    "\n",
    "You can see Bessel's correction reflected in Professor Spiegelhalter's definition of **variance** on p. 405 of *AoS*.\n",
    "\n",
    "__Q5:__ If all we had to go on was our five samples, what would be our best estimate of the population standard deviation? Use Bessel's correction ($n-1$ in the denominator), thus $\\sqrt{\\frac{\\sum_i(x_i - \\bar{x})^2}{n-1}}$."
   ]
  },
  {
   "cell_type": "markdown",
   "metadata": {},
   "source": [
    "__A:__"
   ]
  },
  {
   "cell_type": "code",
   "execution_count": 6,
   "metadata": {
    "execution": {
     "iopub.execute_input": "2025-09-08T21:28:20.831738Z",
     "iopub.status.busy": "2025-09-08T21:28:20.791034Z",
     "iopub.status.idle": "2025-09-08T21:28:20.835747Z",
     "shell.execute_reply": "2025-09-08T21:28:20.835242Z"
    }
   },
   "outputs": [
    {
     "name": "stdout",
     "output_type": "stream",
     "text": [
      "Sample std (denominator=n-1): 1.0740053227518152\n"
     ]
    }
   ],
   "source": [
    "# Q5: Sample standard deviation with Bessel's correction (denominator = n-1)\n",
    "s_samp = np.sqrt(np.sum((samples - xbar)**2) / (n - 1))\n",
    "print(\"Sample std (denominator=n-1):\", s_samp)"
   ]
  },
  {
   "cell_type": "markdown",
   "metadata": {},
   "source": [
    "__Q6:__ Now use numpy's std function to calculate the standard deviation of our random samples. Which of the above standard deviations did it return?"
   ]
  },
  {
   "cell_type": "markdown",
   "metadata": {},
   "source": [
    "__A:__"
   ]
  },
  {
   "cell_type": "code",
   "execution_count": 7,
   "metadata": {
    "execution": {
     "iopub.execute_input": "2025-09-08T21:28:20.839126Z",
     "iopub.status.busy": "2025-09-08T21:28:20.838923Z",
     "iopub.status.idle": "2025-09-08T21:28:20.842221Z",
     "shell.execute_reply": "2025-09-08T21:28:20.841645Z"
    }
   },
   "outputs": [
    {
     "name": "stdout",
     "output_type": "stream",
     "text": [
      "np.std default (ddof=0): 0.9606195639478641\n"
     ]
    }
   ],
   "source": [
    "# Q6: NumPy's std() default uses ddof=0 (population)\n",
    "np_std_default = np.std(samples)\n",
    "print(\"np.std default (ddof=0):\", np_std_default)"
   ]
  },
  {
   "cell_type": "markdown",
   "metadata": {},
   "source": [
    "__Q7:__ Consult the documentation for np.std() to see how to apply the correction for estimating the population parameter and verify this produces the expected result."
   ]
  },
  {
   "cell_type": "markdown",
   "metadata": {},
   "source": [
    "__A:__"
   ]
  },
  {
   "cell_type": "code",
   "execution_count": 8,
   "metadata": {
    "execution": {
     "iopub.execute_input": "2025-09-08T21:28:20.846157Z",
     "iopub.status.busy": "2025-09-08T21:28:20.845913Z",
     "iopub.status.idle": "2025-09-08T21:28:20.849296Z",
     "shell.execute_reply": "2025-09-08T21:28:20.848853Z"
    }
   },
   "outputs": [
    {
     "name": "stdout",
     "output_type": "stream",
     "text": [
      "np.std with ddof=1: 1.0740053227518152\n"
     ]
    }
   ],
   "source": [
    "# Q7: Use ddof=1 for the sample standard deviation\n",
    "np_std_ddof1 = np.std(samples, ddof=1)\n",
    "print(\"np.std with ddof=1:\", np_std_ddof1)"
   ]
  },
  {
   "cell_type": "code",
   "execution_count": 9,
   "metadata": {
    "execution": {
     "iopub.execute_input": "2025-09-08T21:28:20.852081Z",
     "iopub.status.busy": "2025-09-08T21:28:20.851829Z",
     "iopub.status.idle": "2025-09-08T21:28:20.855546Z",
     "shell.execute_reply": "2025-09-08T21:28:20.855001Z"
    }
   },
   "outputs": [
    {
     "name": "stdout",
     "output_type": "stream",
     "text": [
      "{'s_pop': 0.9606195639478641, 's_samp': 1.0740053227518152, 'np_ddof0': 0.9606195639478641, 'np_ddof1': 1.0740053227518152}\n"
     ]
    }
   ],
   "source": [
    "# Compare population vs sample standard deviations\n",
    "print({\"s_pop\": s_pop, \"s_samp\": s_samp, \"np_ddof0\": np.std(samples), \"np_ddof1\": np.std(samples, ddof=1)})"
   ]
  },
  {
   "cell_type": "markdown",
   "metadata": {},
   "source": [
    "### Summary of section"
   ]
  },
  {
   "cell_type": "markdown",
   "metadata": {},
   "source": [
    "In this section, you've been introduced to the scipy.stats package and used it to draw a small sample from the standard normal distribution. You've calculated the average (the mean) of this sample and seen that this is not exactly equal to the expected population parameter (which we know because we're generating the random variates from a specific, known distribution). You've been introduced to two ways of calculating the standard deviation; one uses $n$ in the denominator and the other uses $n-1$ (Bessel's correction). You've also seen which of these calculations np.std() performs by default and how to get it to generate the other."
   ]
  },
  {
   "cell_type": "markdown",
   "metadata": {},
   "source": [
    "You use $n$ as the denominator if you want to calculate the standard deviation of a sequence of numbers. You use $n-1$ if you are using this sequence of numbers to estimate the population parameter. This brings us to some terminology that can be a little confusing.\n",
    "\n",
    "The population parameter is traditionally written as $\\sigma$ and the sample statistic as $s$. Rather unhelpfully, $s$ is also called the sample standard deviation (using $n-1$) whereas the standard deviation of the sample uses $n$. That's right, we have the sample standard deviation and the standard deviation of the sample and they're not the same thing!\n",
    "\n",
    "The sample standard deviation\n",
    "\\begin{equation}\n",
    "s = \\sqrt{\\frac{\\sum_i(x_i - \\bar{x})^2}{n-1}} \\approx \\sigma,\n",
    "\\end{equation}\n",
    "is our best (unbiased) estimate of the population parameter ($\\sigma$).\n",
    "\n",
    "If your dataset _is_ your entire population, you simply want to calculate the population parameter, $\\sigma$, via\n",
    "\\begin{equation}\n",
    "\\sigma = \\sqrt{\\frac{\\sum_i(x_i - \\bar{x})^2}{n}}\n",
    "\\end{equation}\n",
    "as you have complete, full knowledge of your population. In other words, your sample _is_ your population. It's worth noting that we're dealing with what Professor Spiegehalter describes on p. 92 of *AoS* as a **metaphorical population**: we have all the data, and we act as if the data-point is taken from a population at random. We can think of this population as an imaginary space of possibilities. \n",
    "\n",
    "If, however, you have sampled _from_ your population, you only have partial knowledge of the state of your population. In this case, the standard deviation of your sample is not an unbiased estimate of the standard deviation of the population, in which case you seek to estimate that population parameter via the sample standard deviation, which uses the $n-1$ denominator."
   ]
  },
  {
   "cell_type": "markdown",
   "metadata": {},
   "source": [
    "Great work so far! Now let's dive deeper."
   ]
  },
  {
   "cell_type": "markdown",
   "metadata": {},
   "source": [
    "## 3. Sampling distributions"
   ]
  },
  {
   "cell_type": "markdown",
   "metadata": {},
   "source": [
    "So far we've been dealing with the concept of taking a sample from a population to infer the population parameters. One statistic we calculated for a sample was the mean. As our samples will be expected to vary from one draw to another, so will our sample statistics. If we were to perform repeat draws of size $n$ and calculate the mean of each, we would expect to obtain a distribution of values. This is the sampling distribution of the mean. **The Central Limit Theorem (CLT)** tells us that such a distribution will approach a normal distribution as $n$ increases (the intuitions behind the CLT are covered in full on p. 236 of *AoS*). For the sampling distribution of the mean, the standard deviation of this distribution is given by\n",
    "\n",
    "\\begin{equation}\n",
    "\\sigma_{mean} = \\frac{\\sigma}{\\sqrt n}\n",
    "\\end{equation}\n",
    "\n",
    "where $\\sigma_{mean}$ is the standard deviation of the sampling distribution of the mean and $\\sigma$ is the standard deviation of the population (the population parameter)."
   ]
  },
  {
   "cell_type": "markdown",
   "metadata": {},
   "source": [
    "This is important because typically we are dealing with samples from populations and all we know about the population is what we see in the sample. From this sample, we want to make inferences about the population. We may do this, for example, by looking at the histogram of the values and by calculating the mean and standard deviation (as estimates of the population parameters), and so we are intrinsically interested in how these quantities vary across samples. \n",
    "\n",
    "In other words, now that we've taken one sample of size $n$ and made some claims about the general population, what if we were to take another sample of size $n$? Would we get the same result? Would we make the same claims about the general population? This brings us to a fundamental question: _when we make some inference about a population based on our sample, how confident can we be that we've got it 'right'?_\n",
    "\n",
    "We need to think about **estimates and confidence intervals**: those concepts covered in Chapter 7, p. 189, of *AoS*."
   ]
  },
  {
   "cell_type": "markdown",
   "metadata": {},
   "source": [
    "Now, the standard normal distribution (with its variance equal to its standard deviation of one) would not be a great illustration of a key point. Instead, let's imagine we live in a town of 50,000 people and we know the height of everyone in this town. We will have 50,000 numbers that tell us everything about our population. We'll simulate these numbers now and put ourselves in one particular town, called 'town 47', where the population mean height is 172 cm and population standard deviation is 5 cm."
   ]
  },
  {
   "cell_type": "code",
   "execution_count": 10,
   "metadata": {
    "execution": {
     "iopub.execute_input": "2025-09-08T21:28:20.859040Z",
     "iopub.status.busy": "2025-09-08T21:28:20.858793Z",
     "iopub.status.idle": "2025-09-08T21:28:20.863154Z",
     "shell.execute_reply": "2025-09-08T21:28:20.862634Z"
    }
   },
   "outputs": [],
   "source": [
    "seed(47)\n",
    "pop_heights = norm.rvs(172, 5, size=50000)"
   ]
  },
  {
   "cell_type": "code",
   "execution_count": 11,
   "metadata": {
    "execution": {
     "iopub.execute_input": "2025-09-08T21:28:20.865741Z",
     "iopub.status.busy": "2025-09-08T21:28:20.865563Z",
     "iopub.status.idle": "2025-09-08T21:28:21.343152Z",
     "shell.execute_reply": "2025-09-08T21:28:21.342519Z"
    }
   },
   "outputs": [
    {
     "data": {
      "image/png": "[encoded data removed]",
      "text/plain": [
       "<Figure size 640x480 with 1 Axes>"
      ]
     },
     "metadata": {},
     "output_type": "display_data"
    }
   ],
   "source": [
    "_ = plt.hist(pop_heights, bins=30)\n",
    "_ = plt.xlabel('height (cm)')\n",
    "_ = plt.ylabel('number of people')\n",
    "_ = plt.title('Distribution of heights in entire town population')\n",
    "_ = plt.axvline(172, color='r')\n",
    "_ = plt.axvline(172+5, color='r', linestyle='--')\n",
    "_ = plt.axvline(172-5, color='r', linestyle='--')\n",
    "_ = plt.axvline(172+10, color='r', linestyle='-.')\n",
    "_ = plt.axvline(172-10, color='r', linestyle='-.')"
   ]
  },
  {
   "cell_type": "markdown",
   "metadata": {},
   "source": [
    "Now, 50,000 people is rather a lot to chase after with a tape measure. If all you want to know is the average height of the townsfolk, then can you just go out and measure a sample to get a pretty good estimate of the average height?"
   ]
  },
  {
   "cell_type": "code",
   "execution_count": 12,
   "metadata": {
    "execution": {
     "iopub.execute_input": "2025-09-08T21:28:21.346272Z",
     "iopub.status.busy": "2025-09-08T21:28:21.346038Z",
     "iopub.status.idle": "2025-09-08T21:28:21.349409Z",
     "shell.execute_reply": "2025-09-08T21:28:21.348954Z"
    }
   },
   "outputs": [],
   "source": [
    "def townsfolk_sampler(n):\n",
    "    return np.random.choice(pop_heights, n)"
   ]
  },
  {
   "cell_type": "markdown",
   "metadata": {},
   "source": [
    "Let's say you go out one day and randomly sample 10 people to measure."
   ]
  },
  {
   "cell_type": "code",
   "execution_count": 13,
   "metadata": {
    "execution": {
     "iopub.execute_input": "2025-09-08T21:28:21.352126Z",
     "iopub.status.busy": "2025-09-08T21:28:21.351889Z",
     "iopub.status.idle": "2025-09-08T21:28:21.354789Z",
     "shell.execute_reply": "2025-09-08T21:28:21.354267Z"
    }
   },
   "outputs": [],
   "source": [
    "seed(47)\n",
    "daily_sample1 = townsfolk_sampler(10)"
   ]
  },
  {
   "cell_type": "code",
   "execution_count": 14,
   "metadata": {
    "execution": {
     "iopub.execute_input": "2025-09-08T21:28:21.357312Z",
     "iopub.status.busy": "2025-09-08T21:28:21.357125Z",
     "iopub.status.idle": "2025-09-08T21:28:21.832497Z",
     "shell.execute_reply": "2025-09-08T21:28:21.831806Z"
    }
   },
   "outputs": [
    {
     "data": {
      "image/png": "[encoded data removed]",
      "text/plain": [
       "<Figure size 640x480 with 1 Axes>"
      ]
     },
     "metadata": {},
     "output_type": "display_data"
    }
   ],
   "source": [
    "_ = plt.hist(daily_sample1, bins=10)\n",
    "_ = plt.xlabel('height (cm)')\n",
    "_ = plt.ylabel('number of people')\n",
    "_ = plt.title('Distribution of heights in sample size 10')"
   ]
  },
  {
   "cell_type": "markdown",
   "metadata": {},
   "source": [
    "The sample distribution doesn't resemble what we take the population distribution to be. What do we get for the mean?"
   ]
  },
  {
   "cell_type": "code",
   "execution_count": 15,
   "metadata": {
    "execution": {
     "iopub.execute_input": "2025-09-08T21:28:21.837243Z",
     "iopub.status.busy": "2025-09-08T21:28:21.836964Z",
     "iopub.status.idle": "2025-09-08T21:28:21.840959Z",
     "shell.execute_reply": "2025-09-08T21:28:21.840416Z"
    }
   },
   "outputs": [
    {
     "data": {
      "text/plain": [
       "173.47911444163503"
      ]
     },
     "execution_count": 15,
     "metadata": {},
     "output_type": "execute_result"
    }
   ],
   "source": [
    "np.mean(daily_sample1)"
   ]
  },
  {
   "cell_type": "markdown",
   "metadata": {},
   "source": [
    "And if we went out and repeated this experiment?"
   ]
  },
  {
   "cell_type": "code",
   "execution_count": 16,
   "metadata": {
    "execution": {
     "iopub.execute_input": "2025-09-08T21:28:21.843868Z",
     "iopub.status.busy": "2025-09-08T21:28:21.843634Z",
     "iopub.status.idle": "2025-09-08T21:28:21.846367Z",
     "shell.execute_reply": "2025-09-08T21:28:21.845905Z"
    }
   },
   "outputs": [],
   "source": [
    "daily_sample2 = townsfolk_sampler(10)"
   ]
  },
  {
   "cell_type": "code",
   "execution_count": 17,
   "metadata": {
    "execution": {
     "iopub.execute_input": "2025-09-08T21:28:21.848770Z",
     "iopub.status.busy": "2025-09-08T21:28:21.848562Z",
     "iopub.status.idle": "2025-09-08T21:28:21.852905Z",
     "shell.execute_reply": "2025-09-08T21:28:21.852311Z"
    }
   },
   "outputs": [
    {
     "data": {
      "text/plain": [
       "173.7317666636263"
      ]
     },
     "execution_count": 17,
     "metadata": {},
     "output_type": "execute_result"
    }
   ],
   "source": [
    "np.mean(daily_sample2)"
   ]
  },
  {
   "cell_type": "markdown",
   "metadata": {},
   "source": [
    "__Q8:__ Simulate performing this random trial every day for a year, calculating the mean of each daily sample of 10, and plot the resultant sampling distribution of the mean."
   ]
  },
  {
   "cell_type": "markdown",
   "metadata": {},
   "source": [
    "__A:__"
   ]
  },
  {
   "cell_type": "code",
   "execution_count": 18,
   "metadata": {
    "execution": {
     "iopub.execute_input": "2025-09-08T21:28:21.855904Z",
     "iopub.status.busy": "2025-09-08T21:28:21.855664Z",
     "iopub.status.idle": "2025-09-08T21:28:22.360635Z",
     "shell.execute_reply": "2025-09-08T21:28:22.359580Z"
    }
   },
   "outputs": [
    {
     "name": "stdout",
     "output_type": "stream",
     "text": [
      "Mean of sample means (n=10): 172.09224081552202\n",
      "Std of sample means (n=10): 1.608406128458371\n",
      "Theoretical sd (sigma/sqrt(n)): 1.5811388300841895\n"
     ]
    },
    {
     "data": {
      "image/png": "[encoded data removed]",
      "text/plain": [
       "<Figure size 640x480 with 1 Axes>"
      ]
     },
     "metadata": {},
     "output_type": "display_data"
    }
   ],
   "source": [
    "# Q8: Simulate 365 daily samples of size 10; compute and plot sampling distribution of the mean\n",
    "rng = np.random.default_rng(47)\n",
    "daily_means_10 = []\n",
    "for _ in range(365):\n",
    "    sample = rng.choice(pop_heights, size=10, replace=True)\n",
    "    daily_means_10.append(sample.mean())\n",
    "\n",
    "daily_means_10 = np.array(daily_means_10)\n",
    "print(\"Mean of sample means (n=10):\", daily_means_10.mean())\n",
    "print(\"Std of sample means (n=10):\", daily_means_10.std(ddof=1))\n",
    "print(\"Theoretical sd (sigma/sqrt(n)):\", 5/np.sqrt(10))\n",
    "\n",
    "plt.figure()\n",
    "plt.hist(daily_means_10, bins=25, edgecolor='black')\n",
    "plt.xlabel('Sample mean (n=10)')\n",
    "plt.ylabel('Frequency')\n",
    "plt.title('Sampling distribution of the mean (n=10, 365 trials)')\n",
    "plt.show()"
   ]
  },
  {
   "cell_type": "code",
   "execution_count": 19,
   "metadata": {
    "execution": {
     "iopub.execute_input": "2025-09-08T21:28:22.364643Z",
     "iopub.status.busy": "2025-09-08T21:28:22.364363Z",
     "iopub.status.idle": "2025-09-08T21:28:22.367613Z",
     "shell.execute_reply": "2025-09-08T21:28:22.366860Z"
    }
   },
   "outputs": [],
   "source": [
    "seed(47)\n",
    "# take your samples here\n"
   ]
  },
  {
   "cell_type": "markdown",
   "metadata": {},
   "source": [
    "The above is the distribution of the means of samples of size 10 taken from our population. The Central Limit Theorem tells us the expected mean of this distribution will be equal to the population mean, and standard deviation will be $\\sigma / \\sqrt n$, which, in this case, should be approximately 1.58."
   ]
  },
  {
   "cell_type": "markdown",
   "metadata": {},
   "source": [
    "__Q9:__ Verify the above results from the CLT."
   ]
  },
  {
   "cell_type": "markdown",
   "metadata": {},
   "source": [
    "__A:__"
   ]
  },
  {
   "cell_type": "code",
   "execution_count": 20,
   "metadata": {
    "execution": {
     "iopub.execute_input": "2025-09-08T21:28:22.371450Z",
     "iopub.status.busy": "2025-09-08T21:28:22.371096Z",
     "iopub.status.idle": "2025-09-08T21:28:22.376796Z",
     "shell.execute_reply": "2025-09-08T21:28:22.375748Z"
    }
   },
   "outputs": [
    {
     "name": "stdout",
     "output_type": "stream",
     "text": [
      "Empirical mean: 172.09224081552202 (theoretical: 172 )\n",
      "Empirical sd: 1.608406128458371 (theoretical: 1.5811388300841895 )\n"
     ]
    }
   ],
   "source": [
    "# Q9: Verify CLT predictions vs empirical (n=10)\n",
    "mu, sigma, n = 172, 5, 10\n",
    "print(\"Empirical mean:\", daily_means_10.mean(), \"(theoretical:\", mu, \")\")\n",
    "print(\"Empirical sd:\", daily_means_10.std(ddof=1), \"(theoretical:\", sigma/np.sqrt(n), \")\")"
   ]
  },
  {
   "cell_type": "markdown",
   "metadata": {},
   "source": [
    "Remember, in this instance, we knew our population parameters, that the average height really is 172 cm and the standard deviation is 5 cm, and we see some of our daily estimates of the population mean were as low as around 168 and some as high as 176."
   ]
  },
  {
   "cell_type": "markdown",
   "metadata": {},
   "source": [
    "__Q10:__ Repeat the above year's worth of samples but for a sample size of 50 (perhaps you had a bigger budget for conducting surveys that year)! Would you expect your distribution of sample means to be wider (more variable) or narrower (more consistent)? Compare your resultant summary statistics to those predicted by the CLT."
   ]
  },
  {
   "cell_type": "markdown",
   "metadata": {},
   "source": [
    "__A:__"
   ]
  },
  {
   "cell_type": "code",
   "execution_count": 21,
   "metadata": {
    "execution": {
     "iopub.execute_input": "2025-09-08T21:28:22.381058Z",
     "iopub.status.busy": "2025-09-08T21:28:22.380752Z",
     "iopub.status.idle": "2025-09-08T21:28:22.876089Z",
     "shell.execute_reply": "2025-09-08T21:28:22.875300Z"
    }
   },
   "outputs": [
    {
     "name": "stdout",
     "output_type": "stream",
     "text": [
      "Mean of sample means (n=100): 172.05414171078357\n",
      "Std of sample means (n=100): 0.47310259136750116\n",
      "Theoretical sd (sigma/sqrt(n)): 0.5\n"
     ]
    },
    {
     "data": {
      "image/png": "[encoded data removed]",
      "text/plain": [
       "<Figure size 640x480 with 1 Axes>"
      ]
     },
     "metadata": {},
     "output_type": "display_data"
    }
   ],
   "source": [
    "seed(47)\n",
    "# Q10: Daily means for n=100\n",
    "rng = np.random.default_rng(47)\n",
    "daily_means_100 = np.array([rng.choice(pop_heights, size=100, replace=True).mean() for _ in range(365)])\n",
    "print(\"Mean of sample means (n=100):\", daily_means_100.mean())\n",
    "print(\"Std of sample means (n=100):\", daily_means_100.std(ddof=1))\n",
    "print(\"Theoretical sd (sigma/sqrt(n)):\", 5/np.sqrt(100))\n",
    "\n",
    "plt.figure()\n",
    "plt.hist(daily_means_100, bins=25, edgecolor='black')\n",
    "plt.xlabel('Sample mean (n=100)')\n",
    "plt.ylabel('Frequency')\n",
    "plt.title('Sampling distribution of the mean (n=100, 365 trials)')\n",
    "plt.show()"
   ]
  },
  {
   "cell_type": "markdown",
   "metadata": {},
   "source": [
    "What we've seen so far, then, is that we can estimate population parameters from a sample from the population, and that samples have their own distributions. Furthermore, the larger the sample size, the narrower are those sampling distributions."
   ]
  },
  {
   "cell_type": "markdown",
   "metadata": {},
   "source": [
    "### Normally testing time!"
   ]
  },
  {
   "cell_type": "markdown",
   "metadata": {},
   "source": [
    "All of the above is well and good. We've been sampling from a population we know is normally distributed, we've come to understand when to use $n$ and when to use $n-1$ in the denominator to calculate the spread of a distribution, and we've  seen the Central Limit Theorem in action for a sampling distribution. All seems very well behaved in Frequentist land. But, well, why should we really care?"
   ]
  },
  {
   "cell_type": "markdown",
   "metadata": {},
   "source": [
    "Remember, we rarely (if ever) actually know our population parameters but we still have to estimate them somehow. If we want to make inferences to conclusions like \"this observation is unusual\" or \"my population mean has changed\" then we need to have some idea of what the underlying distribution is so we can calculate relevant probabilities. In frequentist inference, we use the formulae above to deduce these population parameters. Take a moment in the next part of this assignment to refresh your understanding of how these probabilities work."
   ]
  },
  {
   "cell_type": "markdown",
   "metadata": {},
   "source": [
    "Recall some basic properties of the standard normal distribution, such as that about 68% of observations are within plus or minus 1 standard deviation of the mean. Check out the precise definition of a normal distribution on p. 394 of *AoS*. \n",
    "\n",
    "__Q11:__ Using this fact, calculate the probability of observing the value 1 or less in a single observation from the standard normal distribution. Hint: you may find it helpful to sketch the standard normal distribution (the familiar bell shape) and mark the number of standard deviations from the mean on the x-axis and shade the regions of the curve that contain certain percentages of the population."
   ]
  },
  {
   "cell_type": "markdown",
   "metadata": {},
   "source": [
    "__A:__"
   ]
  },
  {
   "cell_type": "markdown",
   "metadata": {},
   "source": [
    "Calculating this probability involved calculating the area under the curve from the value of 1 and below. To put it in mathematical terms, we need to *integrate* the probability density function. We could just add together the known areas of chunks (from -Inf to 0 and then 0 to $+\\sigma$ in the example above). One way to do this is to look up tables (literally). Fortunately, scipy has this functionality built in with the cdf() function."
   ]
  },
  {
   "cell_type": "markdown",
   "metadata": {},
   "source": [
    "__Q12:__ Use the cdf() function to answer the question above again and verify you get the same answer."
   ]
  },
  {
   "cell_type": "markdown",
   "metadata": {},
   "source": [
    "__A:__"
   ]
  },
  {
   "cell_type": "code",
   "execution_count": 22,
   "metadata": {
    "execution": {
     "iopub.execute_input": "2025-09-08T21:28:22.881257Z",
     "iopub.status.busy": "2025-09-08T21:28:22.880990Z",
     "iopub.status.idle": "2025-09-08T21:28:22.886582Z",
     "shell.execute_reply": "2025-09-08T21:28:22.885854Z"
    }
   },
   "outputs": [
    {
     "name": "stdout",
     "output_type": "stream",
     "text": [
      "{'approx_within_1sd': 0.6827, 'cdf_within_1sd': 0.6826894921370859}\n"
     ]
    }
   ],
   "source": [
    "# Q11/Q12: Standard normal probability within ±1\n",
    "approx_within_1sd = 0.6827  # empirical rule\n",
    "cdf_within_1sd = norm.cdf(1) - norm.cdf(-1)\n",
    "print({\"approx_within_1sd\": approx_within_1sd, \"cdf_within_1sd\": cdf_within_1sd})"
   ]
  },
  {
   "cell_type": "markdown",
   "metadata": {},
   "source": [
    "__Q13:__ Using our knowledge of the population parameters for our townsfolks' heights, what is the probability of selecting one person at random and their height being 177 cm or less? Calculate this using both of the approaches given above."
   ]
  },
  {
   "cell_type": "markdown",
   "metadata": {},
   "source": [
    "__A:__"
   ]
  },
  {
   "cell_type": "code",
   "execution_count": 23,
   "metadata": {
    "execution": {
     "iopub.execute_input": "2025-09-08T21:28:22.889706Z",
     "iopub.status.busy": "2025-09-08T21:28:22.889449Z",
     "iopub.status.idle": "2025-09-08T21:28:22.893759Z",
     "shell.execute_reply": "2025-09-08T21:28:22.893317Z"
    }
   },
   "outputs": [
    {
     "name": "stdout",
     "output_type": "stream",
     "text": [
      "{'z': 1.0, 'p_cdf': 0.8413447460685429, 'p_erf': 0.8413447460685428}\n"
     ]
    }
   ],
   "source": [
    "# Q13: Probability a randomly chosen person is 177 cm or less\n",
    "mu, sigma = 172, 5\n",
    "z = (177 - mu)/sigma\n",
    "p_via_cdf = norm.cdf(z)\n",
    "from math import erf\n",
    "p_via_erf = 0.5*(1 + erf(z/np.sqrt(2)))\n",
    "print({\"z\": z, \"p_cdf\": p_via_cdf, \"p_erf\": p_via_erf})"
   ]
  },
  {
   "cell_type": "markdown",
   "metadata": {},
   "source": [
    "__Q14:__ Turning this question around — suppose we randomly pick one person and measure their height and find they are 2.00 m tall. How surprised should we be at this result, given what we know about the population distribution? In other words, how likely would it be to obtain a value at least as extreme as this? Express this as a probability. "
   ]
  },
  {
   "cell_type": "markdown",
   "metadata": {},
   "source": [
    "__A:__"
   ]
  },
  {
   "cell_type": "code",
   "execution_count": 24,
   "metadata": {
    "execution": {
     "iopub.execute_input": "2025-09-08T21:28:22.932595Z",
     "iopub.status.busy": "2025-09-08T21:28:22.932296Z",
     "iopub.status.idle": "2025-09-08T21:28:22.937979Z",
     "shell.execute_reply": "2025-09-08T21:28:22.937476Z"
    }
   },
   "outputs": [
    {
     "name": "stdout",
     "output_type": "stream",
     "text": [
      "{'z': 2.0, 'two_tailed_p': 0.04550026389635842}\n"
     ]
    }
   ],
   "source": [
    "# Q14: Two-tailed probability of observing a value at least as extreme as 182 cm\n",
    "mu, sigma = 172, 5\n",
    "x = 182\n",
    "z = abs((x - mu)/sigma)\n",
    "p_two_tailed = 2*(1 - norm.cdf(z))\n",
    "print({\"z\": z, \"two_tailed_p\": p_two_tailed})"
   ]
  },
  {
   "cell_type": "markdown",
   "metadata": {},
   "source": [
    "What we've just done is calculate the ***p-value*** of the observation of someone 2.00m tall (review *p*-values if you need to on p. 399 of *AoS*). We could calculate this probability by virtue of knowing the population parameters. We were then able to use the known properties of the relevant normal distribution to calculate the probability of observing a value at least as extreme as our test value."
   ]
  },
  {
   "cell_type": "markdown",
   "metadata": {},
   "source": [
    "We're about to come to a pinch, though. We've said a couple of times that we rarely, if ever, know the true population parameters; we have to estimate them from our sample and we cannot even begin to estimate the standard deviation from a single observation. \n",
    "\n",
    "This is very true and usually we have sample sizes larger than one. This means we can calculate the mean of the sample as our best estimate of the population mean and the standard deviation as our best estimate of the population standard deviation. \n",
    "\n",
    "In other words, we are now coming to deal with the sampling distributions we mentioned above as we are generally concerned with the properties of the sample means we obtain. \n",
    "\n",
    "Above, we highlighted one result from the CLT, whereby the sampling distribution (of the mean) becomes narrower and narrower with the square root of the sample size. We remind ourselves that another result from the CLT is that _even if the underlying population distribution is not normal, the sampling distribution will tend to become normal with sufficiently large sample size_. (**Check out p. 199 of AoS if you need to revise this**). This is the key driver for us 'requiring' a certain sample size, for example you may frequently see a minimum sample size of 30 stated in many places. In reality this is simply a rule of thumb; if the underlying distribution is approximately normal then your sampling distribution will already be pretty normal, but if the underlying distribution is heavily skewed then you'd want to increase your sample size."
   ]
  },
  {
   "cell_type": "markdown",
   "metadata": {},
   "source": [
    "__Q15:__ Let's now start from the position of knowing nothing about the heights of people in our town.\n",
    "* Use the random seed of 47, to randomly sample the heights of 50 townsfolk\n",
    "* Estimate the population mean using np.mean\n",
    "* Estimate the population standard deviation using np.std (remember which denominator to use!)\n",
    "* Calculate the (95%) [margin of error](https://www.statisticshowto.datasciencecentral.com/probability-and-statistics/hypothesis-testing/margin-of-error/#WhatMofE) (use the exact critial z value to 2 decimal places - [look this up](https://www.statisticshowto.datasciencecentral.com/probability-and-statistics/find-critical-values/) or use norm.ppf()) Recall that the ***margin of error*** is mentioned on p. 189 of the *AoS* and discussed in depth in that chapter). \n",
    "* Calculate the 95% Confidence Interval of the mean (***confidence intervals*** are defined on p. 385 of *AoS*) \n",
    "* Does this interval include the true population mean?"
   ]
  },
  {
   "cell_type": "markdown",
   "metadata": {},
   "source": [
    "__A:__"
   ]
  },
  {
   "cell_type": "code",
   "execution_count": 25,
   "metadata": {
    "execution": {
     "iopub.execute_input": "2025-09-08T21:28:22.941170Z",
     "iopub.status.busy": "2025-09-08T21:28:22.940936Z",
     "iopub.status.idle": "2025-09-08T21:28:22.946799Z",
     "shell.execute_reply": "2025-09-08T21:28:22.946137Z"
    }
   },
   "outputs": [
    {
     "name": "stdout",
     "output_type": "stream",
     "text": [
      "{'xbar': 172.06440856158798, 's_hat': 6.385666507610146, 'n': 50, 'z_crit': 1.959963984540054, 'moe_z': 1.7699839267837105, 'ci_z': (170.29442463480427, 173.8343924883717), 'includes_true_mu': True}\n"
     ]
    }
   ],
   "source": [
    "seed(47)\n",
    "# Q15: Sample 50 heights, estimate mean/std, compute 95% CI using normal approximation\n",
    "sample50 = np.random.default_rng(47).choice(pop_heights, size=50, replace=True)\n",
    "xbar = sample50.mean()\n",
    "s_hat = sample50.std(ddof=1)\n",
    "n = sample50.size\n",
    "z_crit = norm.ppf(0.975)\n",
    "moe_z = z_crit * s_hat/np.sqrt(n)\n",
    "ci_z = (xbar - moe_z, xbar + moe_z)\n",
    "print({\"xbar\": xbar, \"s_hat\": s_hat, \"n\": n, \"z_crit\": z_crit, \"moe_z\": moe_z, \"ci_z\": ci_z,\n",
    "       \"includes_true_mu\": (172 >= ci_z[0] and 172 <= ci_z[1])})"
   ]
  },
  {
   "cell_type": "markdown",
   "metadata": {},
   "source": [
    "__Q16:__ Above, we calculated the confidence interval using the critical z value. What is the problem with this? What requirement, or requirements, are we (strictly) failing?"
   ]
  },
  {
   "cell_type": "markdown",
   "metadata": {},
   "source": [
    "__A:__In the exercise, we only had a sample of 50 townsfolk, so we estimated σ with s.\n",
    "\n",
    "Strictly speaking, that means the correct distribution for our test statistic is the t-distribution with (n–1) degrees of freedom, not the standard normal.\n",
    "\n",
    "The t accounts for the extra uncertainty from estimating σ."
   ]
  },
  {
   "cell_type": "markdown",
   "metadata": {},
   "source": [
    "__Q17:__ Calculate the 95% confidence interval for the mean using the _t_ distribution. Is this wider or narrower than that based on the normal distribution above? If you're unsure, you may find this [resource](https://www.statisticshowto.datasciencecentral.com/probability-and-statistics/confidence-interval/) useful. For calculating the critical value, remember how you could calculate this for the normal distribution using norm.ppf()."
   ]
  },
  {
   "cell_type": "markdown",
   "metadata": {},
   "source": [
    "__A:__"
   ]
  },
  {
   "cell_type": "code",
   "execution_count": 26,
   "metadata": {
    "execution": {
     "iopub.execute_input": "2025-09-08T21:28:22.951902Z",
     "iopub.status.busy": "2025-09-08T21:28:22.951706Z",
     "iopub.status.idle": "2025-09-08T21:28:22.956524Z",
     "shell.execute_reply": "2025-09-08T21:28:22.956026Z"
    }
   },
   "outputs": [
    {
     "name": "stdout",
     "output_type": "stream",
     "text": [
      "{'t_crit': 2.009575234489209, 'moe_t': 1.8147863393230714, 'ci_t': (170.24962222226492, 173.87919490091105), 'includes_true_mu': True}\n"
     ]
    }
   ],
   "source": [
    "# Q17: 95% CI for the mean using the t-distribution (unknown sigma)\n",
    "# Reuse xbar, s_hat, n from above\n",
    "alpha = 0.05\n",
    "df = n - 1\n",
    "t_crit = t.ppf(1 - alpha/2, df)\n",
    "moe_t = t_crit * s_hat/np.sqrt(n)\n",
    "ci_t = (xbar - moe_t, xbar + moe_t)\n",
    "print({\"t_crit\": t_crit, \"moe_t\": moe_t, \"ci_t\": ci_t, \"includes_true_mu\": (172 >= ci_t[0] and 172 <= ci_t[1])})"
   ]
  },
  {
   "cell_type": "code",
   "execution_count": 27,
   "metadata": {
    "execution": {
     "iopub.execute_input": "2025-09-08T21:28:22.959688Z",
     "iopub.status.busy": "2025-09-08T21:28:22.959476Z",
     "iopub.status.idle": "2025-09-08T21:28:22.962993Z",
     "shell.execute_reply": "2025-09-08T21:28:22.962428Z"
    }
   },
   "outputs": [
    {
     "name": "stdout",
     "output_type": "stream",
     "text": [
      "z-based CI: (170.29442463480427, 173.8343924883717)\n",
      "t-based CI: (170.24962222226492, 173.87919490091105)\n"
     ]
    }
   ],
   "source": [
    "# Compare z-based and t-based intervals\n",
    "print(\"z-based CI:\", ci_z)\n",
    "print(\"t-based CI:\", ci_t)"
   ]
  },
  {
   "cell_type": "code",
   "execution_count": 28,
   "metadata": {
    "execution": {
     "iopub.execute_input": "2025-09-08T21:28:22.966014Z",
     "iopub.status.busy": "2025-09-08T21:28:22.965685Z",
     "iopub.status.idle": "2025-09-08T21:28:22.970705Z",
     "shell.execute_reply": "2025-09-08T21:28:22.969967Z"
    }
   },
   "outputs": [
    {
     "name": "stdout",
     "output_type": "stream",
     "text": [
      "{'width_z': 3.5399678535674184, 'width_t': 3.6295726786461273}\n"
     ]
    }
   ],
   "source": [
    "# Widths of intervals for reference\n",
    "width_z = ci_z[1] - ci_z[0]\n",
    "width_t = ci_t[1] - ci_t[0]\n",
    "print({\"width_z\": width_z, \"width_t\": width_t})"
   ]
  },
  {
   "cell_type": "markdown",
   "metadata": {},
   "source": [
    "This is slightly wider than the previous confidence interval. This reflects the greater uncertainty given that we are estimating population parameters from a sample."
   ]
  },
  {
   "cell_type": "markdown",
   "metadata": {},
   "source": [
    "## 4. Learning outcomes"
   ]
  },
  {
   "cell_type": "markdown",
   "metadata": {},
   "source": [
    "Having completed this project notebook, you now have hands-on experience:\n",
    "* sampling and calculating probabilities from a normal distribution\n",
    "* identifying the correct way to estimate the standard deviation of a population (the population parameter) from a sample\n",
    "* with sampling distribution and now know how the Central Limit Theorem applies\n",
    "* with how to calculate critical values and confidence intervals"
   ]
  }
 ],
 "metadata": {
  "kernelspec": {
   "display_name": "Python 3 (ipykernel)",
   "language": "python",
   "name": "python3"
  },
  "language_info": {
   "codemirror_mode": {
    "name": "ipython",
    "version": 3
   },
   "file_extension": ".py",
   "mimetype": "text/x-python",
   "name": "python",
   "nbconvert_exporter": "python",
   "pygments_lexer": "ipython3",
   "version": "3.9.13"
  }
 },
 "nbformat": 4,
 "nbformat_minor": 2
}
