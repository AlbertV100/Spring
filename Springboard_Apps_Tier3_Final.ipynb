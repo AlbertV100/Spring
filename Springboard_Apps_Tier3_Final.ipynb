{
 "cells": [
  {
   "cell_type": "markdown",
   "id": "062d3f9d",
   "metadata": {},
   "source": [
    "# Springboard Apps project - Tier 3 - Complete"
   ]
  },
  {
   "cell_type": "markdown",
   "id": "00347619",
   "metadata": {},
   "source": [
    "## Importing the libraries\n",
    "In this case we are going to import pandas, numpy, scipy, random and matplotlib.pyplot"
   ]
  },
  {
   "cell_type": "code",
   "execution_count": 32,
   "id": "f9f04e43",
   "metadata": {},
   "outputs": [],
   "source": [
    "import pandas as pd\n",
    "import numpy as np\n",
    "import matplotlib.pyplot as plt\n",
    "from scipy import stats\n",
    "import random\n",
    "pd.set_option('display.float_format', lambda v: f\"{v:,.4f}\")"
   ]
  },
  {
   "cell_type": "markdown",
   "id": "06fef71a",
   "metadata": {},
   "source": [
    "## Stage 1 -  Sourcing and loading data"
   ]
  },
  {
   "cell_type": "markdown",
   "id": "28042e93",
   "metadata": {},
   "source": [
    "### 1a. Source and load the data\n",
    "We'll use the datasets you provided (already uploaded to this environment)."
   ]
  },
  {
   "cell_type": "code",
   "execution_count": 33,
   "id": "426f72b3",
   "metadata": {},
   "outputs": [
    {
     "data": {
      "text/html": [
       "<div>\n",
       "<style scoped>\n",
       "    .dataframe tbody tr th:only-of-type {\n",
       "        vertical-align: middle;\n",
       "    }\n",
       "\n",
       "    .dataframe tbody tr th {\n",
       "        vertical-align: top;\n",
       "    }\n",
       "\n",
       "    .dataframe thead th {\n",
       "        text-align: right;\n",
       "    }\n",
       "</style>\n",
       "<table border=\"1\" class=\"dataframe\">\n",
       "  <thead>\n",
       "    <tr style=\"text-align: right;\">\n",
       "      <th></th>\n",
       "      <th>App</th>\n",
       "      <th>Category</th>\n",
       "      <th>Rating</th>\n",
       "      <th>Reviews</th>\n",
       "      <th>Size</th>\n",
       "      <th>Installs</th>\n",
       "      <th>Type</th>\n",
       "      <th>Price</th>\n",
       "      <th>Content Rating</th>\n",
       "      <th>Genres</th>\n",
       "      <th>Last Updated</th>\n",
       "      <th>Current Ver</th>\n",
       "      <th>Android Ver</th>\n",
       "    </tr>\n",
       "  </thead>\n",
       "  <tbody>\n",
       "    <tr>\n",
       "      <th>0</th>\n",
       "      <td>Photo Editor &amp; Candy Camera &amp; Grid &amp; ScrapBook</td>\n",
       "      <td>ART_AND_DESIGN</td>\n",
       "      <td>4.1000</td>\n",
       "      <td>159</td>\n",
       "      <td>19M</td>\n",
       "      <td>10,000+</td>\n",
       "      <td>Free</td>\n",
       "      <td>0</td>\n",
       "      <td>Everyone</td>\n",
       "      <td>Art &amp; Design</td>\n",
       "      <td>January 7, 2018</td>\n",
       "      <td>1.0.0</td>\n",
       "      <td>4.0.3 and up</td>\n",
       "    </tr>\n",
       "    <tr>\n",
       "      <th>1</th>\n",
       "      <td>Coloring book moana</td>\n",
       "      <td>ART_AND_DESIGN</td>\n",
       "      <td>3.9000</td>\n",
       "      <td>967</td>\n",
       "      <td>14M</td>\n",
       "      <td>500,000+</td>\n",
       "      <td>Free</td>\n",
       "      <td>0</td>\n",
       "      <td>Everyone</td>\n",
       "      <td>Art &amp; Design;Pretend Play</td>\n",
       "      <td>January 15, 2018</td>\n",
       "      <td>2.0.0</td>\n",
       "      <td>4.0.3 and up</td>\n",
       "    </tr>\n",
       "    <tr>\n",
       "      <th>2</th>\n",
       "      <td>U Launcher Lite – FREE Live Cool Themes, Hide ...</td>\n",
       "      <td>ART_AND_DESIGN</td>\n",
       "      <td>4.7000</td>\n",
       "      <td>87510</td>\n",
       "      <td>8.7M</td>\n",
       "      <td>5,000,000+</td>\n",
       "      <td>Free</td>\n",
       "      <td>0</td>\n",
       "      <td>Everyone</td>\n",
       "      <td>Art &amp; Design</td>\n",
       "      <td>August 1, 2018</td>\n",
       "      <td>1.2.4</td>\n",
       "      <td>4.0.3 and up</td>\n",
       "    </tr>\n",
       "  </tbody>\n",
       "</table>\n",
       "</div>"
      ],
      "text/plain": [
       "                                                 App        Category  Rating  \\\n",
       "0     Photo Editor & Candy Camera & Grid & ScrapBook  ART_AND_DESIGN  4.1000   \n",
       "1                                Coloring book moana  ART_AND_DESIGN  3.9000   \n",
       "2  U Launcher Lite – FREE Live Cool Themes, Hide ...  ART_AND_DESIGN  4.7000   \n",
       "\n",
       "  Reviews  Size    Installs  Type Price Content Rating  \\\n",
       "0     159   19M     10,000+  Free     0       Everyone   \n",
       "1     967   14M    500,000+  Free     0       Everyone   \n",
       "2   87510  8.7M  5,000,000+  Free     0       Everyone   \n",
       "\n",
       "                      Genres      Last Updated Current Ver   Android Ver  \n",
       "0               Art & Design   January 7, 2018       1.0.0  4.0.3 and up  \n",
       "1  Art & Design;Pretend Play  January 15, 2018       2.0.0  4.0.3 and up  \n",
       "2               Art & Design    August 1, 2018       1.2.4  4.0.3 and up  "
      ]
     },
     "execution_count": 33,
     "metadata": {},
     "output_type": "execute_result"
    }
   ],
   "source": [
    "google_path = r\"C:\\Springboard\\Python Stats in EDA\\11.3 Hypthesis Testing\\1585016537_Apps_Case_Study\\Project Files\\googleplaystore.csv\"\n",
    "apple_path  = r\"C:\\Springboard\\Python Stats in EDA\\11.3 Hypthesis Testing\\1585016537_Apps_Case_Study\\Project Files\\AppleStore.csv\"\n",
    "\n",
    "Google = pd.read_csv(google_path)\n",
    "Apple  = pd.read_csv(apple_path)\n",
    "\n",
    "Google.head(3)"
   ]
  },
  {
   "cell_type": "markdown",
   "id": "80d96de5",
   "metadata": {},
   "source": [
    "### 1b. Pick the columns we'll work with"
   ]
  },
  {
   "cell_type": "markdown",
   "id": "4b5d3b2c",
   "metadata": {},
   "source": [
    "From the documentation of these datasets, we focus on:\n",
    "- **Google:** `Category`, `Rating`, `Reviews`, `Price`\n",
    "- **Apple:** `prime_genre`, `user_rating`, `rating_count_tot`, `price`"
   ]
  },
  {
   "cell_type": "code",
   "execution_count": 34,
   "id": "31395795",
   "metadata": {},
   "outputs": [
    {
     "data": {
      "text/html": [
       "<div>\n",
       "<style scoped>\n",
       "    .dataframe tbody tr th:only-of-type {\n",
       "        vertical-align: middle;\n",
       "    }\n",
       "\n",
       "    .dataframe tbody tr th {\n",
       "        vertical-align: top;\n",
       "    }\n",
       "\n",
       "    .dataframe thead th {\n",
       "        text-align: right;\n",
       "    }\n",
       "</style>\n",
       "<table border=\"1\" class=\"dataframe\">\n",
       "  <thead>\n",
       "    <tr style=\"text-align: right;\">\n",
       "      <th></th>\n",
       "      <th>Category</th>\n",
       "      <th>Rating</th>\n",
       "      <th>Reviews</th>\n",
       "      <th>Price</th>\n",
       "    </tr>\n",
       "  </thead>\n",
       "  <tbody>\n",
       "    <tr>\n",
       "      <th>0</th>\n",
       "      <td>ART_AND_DESIGN</td>\n",
       "      <td>4.1000</td>\n",
       "      <td>159</td>\n",
       "      <td>0</td>\n",
       "    </tr>\n",
       "    <tr>\n",
       "      <th>1</th>\n",
       "      <td>ART_AND_DESIGN</td>\n",
       "      <td>3.9000</td>\n",
       "      <td>967</td>\n",
       "      <td>0</td>\n",
       "    </tr>\n",
       "    <tr>\n",
       "      <th>2</th>\n",
       "      <td>ART_AND_DESIGN</td>\n",
       "      <td>4.7000</td>\n",
       "      <td>87510</td>\n",
       "      <td>0</td>\n",
       "    </tr>\n",
       "  </tbody>\n",
       "</table>\n",
       "</div>"
      ],
      "text/plain": [
       "         Category  Rating Reviews Price\n",
       "0  ART_AND_DESIGN  4.1000     159     0\n",
       "1  ART_AND_DESIGN  3.9000     967     0\n",
       "2  ART_AND_DESIGN  4.7000   87510     0"
      ]
     },
     "execution_count": 34,
     "metadata": {},
     "output_type": "execute_result"
    }
   ],
   "source": [
    "g_cols = ['Category','Rating','Reviews','Price']\n",
    "a_cols = ['prime_genre','user_rating','rating_count_tot','price']\n",
    "\n",
    "Google_sub = Google[g_cols].copy()\n",
    "Apple_sub  = Apple[a_cols].copy()\n",
    "\n",
    "Google_sub.head(3)"
   ]
  },
  {
   "cell_type": "markdown",
   "id": "6db38ee0",
   "metadata": {},
   "source": [
    "### 1c. Subsetting accordingly"
   ]
  },
  {
   "cell_type": "code",
   "execution_count": 6,
   "id": "9e375d7c",
   "metadata": {},
   "outputs": [
    {
     "data": {
      "text/html": [
       "<div>\n",
       "<style scoped>\n",
       "    .dataframe tbody tr th:only-of-type {\n",
       "        vertical-align: middle;\n",
       "    }\n",
       "\n",
       "    .dataframe tbody tr th {\n",
       "        vertical-align: top;\n",
       "    }\n",
       "\n",
       "    .dataframe thead th {\n",
       "        text-align: right;\n",
       "    }\n",
       "</style>\n",
       "<table border=\"1\" class=\"dataframe\">\n",
       "  <thead>\n",
       "    <tr style=\"text-align: right;\">\n",
       "      <th></th>\n",
       "      <th>prime_genre</th>\n",
       "      <th>user_rating</th>\n",
       "      <th>rating_count_tot</th>\n",
       "      <th>price</th>\n",
       "    </tr>\n",
       "  </thead>\n",
       "  <tbody>\n",
       "    <tr>\n",
       "      <th>0</th>\n",
       "      <td>Games</td>\n",
       "      <td>4.0000</td>\n",
       "      <td>21292</td>\n",
       "      <td>3.9900</td>\n",
       "    </tr>\n",
       "    <tr>\n",
       "      <th>1</th>\n",
       "      <td>Productivity</td>\n",
       "      <td>4.0000</td>\n",
       "      <td>161065</td>\n",
       "      <td>0.0000</td>\n",
       "    </tr>\n",
       "    <tr>\n",
       "      <th>2</th>\n",
       "      <td>Weather</td>\n",
       "      <td>3.5000</td>\n",
       "      <td>188583</td>\n",
       "      <td>0.0000</td>\n",
       "    </tr>\n",
       "  </tbody>\n",
       "</table>\n",
       "</div>"
      ],
      "text/plain": [
       "    prime_genre  user_rating  rating_count_tot  price\n",
       "0         Games       4.0000             21292 3.9900\n",
       "1  Productivity       4.0000            161065 0.0000\n",
       "2       Weather       3.5000            188583 0.0000"
      ]
     },
     "execution_count": 6,
     "metadata": {},
     "output_type": "execute_result"
    }
   ],
   "source": [
    "Apple_sub.head(3)"
   ]
  },
  {
   "cell_type": "markdown",
   "id": "9d41eeb6",
   "metadata": {},
   "source": [
    "## Stage 2 -  Cleaning, transforming and visualizing"
   ]
  },
  {
   "cell_type": "markdown",
   "id": "df296606",
   "metadata": {},
   "source": [
    "### 2a. Check the data types for both Apple and Google, and fix them"
   ]
  },
  {
   "cell_type": "code",
   "execution_count": 7,
   "id": "a4416c3c",
   "metadata": {},
   "outputs": [
    {
     "data": {
      "text/plain": [
       "prime_genre          object\n",
       "user_rating         float64\n",
       "rating_count_tot      int64\n",
       "price               float64\n",
       "dtype: object"
      ]
     },
     "execution_count": 7,
     "metadata": {},
     "output_type": "execute_result"
    }
   ],
   "source": [
    "Apple_sub.dtypes"
   ]
  },
  {
   "cell_type": "markdown",
   "id": "40f8b29c",
   "metadata": {},
   "source": [
    "This is looking healthy. But what about our Google data frame?"
   ]
  },
  {
   "cell_type": "code",
   "execution_count": 8,
   "id": "4e044c94",
   "metadata": {},
   "outputs": [
    {
     "data": {
      "text/plain": [
       "Category     object\n",
       "Rating      float64\n",
       "Reviews      object\n",
       "Price        object\n",
       "dtype: object"
      ]
     },
     "execution_count": 8,
     "metadata": {},
     "output_type": "execute_result"
    }
   ],
   "source": [
    "Google_sub.dtypes"
   ]
  },
  {
   "cell_type": "markdown",
   "id": "129a4045",
   "metadata": {},
   "source": [
    "Weird. The data type for the column 'Price' is 'object', not a numeric type. Let's investigate the unique values of this column."
   ]
  },
  {
   "cell_type": "code",
   "execution_count": 9,
   "id": "0a34f5c8",
   "metadata": {},
   "outputs": [
    {
     "data": {
      "text/plain": [
       "array(['0', '$4.99', '$3.99', '$6.99', '$1.49', '$2.99', '$7.99', '$5.99',\n",
       "       '$3.49', '$1.99', '$9.99', '$7.49', '$0.99', '$9.00', '$5.49',\n",
       "       '$10.00', '$24.99', '$11.99', '$79.99', '$16.99'], dtype=object)"
      ]
     },
     "execution_count": 9,
     "metadata": {},
     "output_type": "execute_result"
    }
   ],
   "source": [
    "Google_sub['Price'].astype(str).unique()[:20]"
   ]
  },
  {
   "cell_type": "markdown",
   "id": "8d87353f",
   "metadata": {},
   "source": [
    "Aha! We may have a couple of issues:\n",
    "- Some entries carry a **dollar symbol** (e.g., `$2.99`).\n",
    "- Rare, malformed values can exist (historically `'Everyone'` showed up in some distributions)."
   ]
  },
  {
   "cell_type": "markdown",
   "id": "724465af",
   "metadata": {},
   "source": [
    "Let's check if any rows have the price value `'Everyone'`."
   ]
  },
  {
   "cell_type": "code",
   "execution_count": 10,
   "id": "7bce1fcf",
   "metadata": {},
   "outputs": [
    {
     "data": {
      "text/html": [
       "<div>\n",
       "<style scoped>\n",
       "    .dataframe tbody tr th:only-of-type {\n",
       "        vertical-align: middle;\n",
       "    }\n",
       "\n",
       "    .dataframe tbody tr th {\n",
       "        vertical-align: top;\n",
       "    }\n",
       "\n",
       "    .dataframe thead th {\n",
       "        text-align: right;\n",
       "    }\n",
       "</style>\n",
       "<table border=\"1\" class=\"dataframe\">\n",
       "  <thead>\n",
       "    <tr style=\"text-align: right;\">\n",
       "      <th></th>\n",
       "      <th>Category</th>\n",
       "      <th>Rating</th>\n",
       "      <th>Reviews</th>\n",
       "      <th>Price</th>\n",
       "    </tr>\n",
       "  </thead>\n",
       "  <tbody>\n",
       "    <tr>\n",
       "      <th>10472</th>\n",
       "      <td>1.9</td>\n",
       "      <td>19.0000</td>\n",
       "      <td>3.0M</td>\n",
       "      <td>Everyone</td>\n",
       "    </tr>\n",
       "  </tbody>\n",
       "</table>\n",
       "</div>"
      ],
      "text/plain": [
       "      Category  Rating Reviews     Price\n",
       "10472      1.9 19.0000    3.0M  Everyone"
      ]
     },
     "execution_count": 10,
     "metadata": {},
     "output_type": "execute_result"
    }
   ],
   "source": [
    "bad_rows = Google_sub[Google_sub['Price'].astype(str).eq('Everyone')]\n",
    "bad_rows"
   ]
  },
  {
   "cell_type": "markdown",
   "id": "cf0d6872",
   "metadata": {},
   "source": [
    "Thankfully, if present it's typically just one row. Let's eliminate it (no-ops if none present)."
   ]
  },
  {
   "cell_type": "code",
   "execution_count": 11,
   "id": "56d24067",
   "metadata": {},
   "outputs": [
    {
     "data": {
      "text/plain": [
       "(10840, 4)"
      ]
     },
     "execution_count": 11,
     "metadata": {},
     "output_type": "execute_result"
    }
   ],
   "source": [
    "Google_sub = Google_sub[~Google_sub['Price'].astype(str).eq('Everyone')].copy()\n",
    "Google_sub.shape"
   ]
  },
  {
   "cell_type": "markdown",
   "id": "53a567b3",
   "metadata": {},
   "source": [
    "Our second problem remains: dollar symbols. Let's strip them and convert to numeric."
   ]
  },
  {
   "cell_type": "code",
   "execution_count": 12,
   "id": "679c6876",
   "metadata": {},
   "outputs": [
    {
     "data": {
      "text/plain": [
       "Category     object\n",
       "Rating      float64\n",
       "Reviews       int64\n",
       "Price       float64\n",
       "dtype: object"
      ]
     },
     "execution_count": 12,
     "metadata": {},
     "output_type": "execute_result"
    }
   ],
   "source": [
    "# Clean Google price\n",
    "Google_sub['Price'] = (\n",
    "    Google_sub['Price']\n",
    "    .astype(str)\n",
    "    .str.replace('$','', regex=False)\n",
    "    .replace('Free', '0', regex=False)  # sometimes present\n",
    ")\n",
    "Google_sub['Price'] = pd.to_numeric(Google_sub['Price'], errors='coerce')\n",
    "\n",
    "# Ratings & Reviews to numeric\n",
    "Google_sub['Rating']  = pd.to_numeric(Google_sub['Rating'], errors='coerce')\n",
    "Google_sub['Reviews'] = pd.to_numeric(Google_sub['Reviews'], errors='coerce')\n",
    "\n",
    "Google_sub.dtypes"
   ]
  },
  {
   "cell_type": "markdown",
   "id": "a9520f36",
   "metadata": {},
   "source": [
    "### 2b. Make the two datasets comparable by renaming and adding a `platform` column"
   ]
  },
  {
   "cell_type": "code",
   "execution_count": 13,
   "id": "c4b24632",
   "metadata": {},
   "outputs": [
    {
     "data": {
      "text/plain": [
       "(            genre  rating  rating_count_tot  price platform\n",
       " 0  ART_AND_DESIGN  4.1000               159 0.0000   Google\n",
       " 1  ART_AND_DESIGN  3.9000               967 0.0000   Google,\n",
       "           genre  rating  rating_count_tot  price platform\n",
       " 0         Games  4.0000             21292 3.9900    Apple\n",
       " 1  Productivity  4.0000            161065 0.0000    Apple)"
      ]
     },
     "execution_count": 13,
     "metadata": {},
     "output_type": "execute_result"
    }
   ],
   "source": [
    "Google_sub = Google_sub.rename(columns={'Category':'genre','Rating':'rating','Reviews':'rating_count_tot','Price':'price'})\n",
    "Apple_sub  = Apple_sub.rename(columns={'prime_genre':'genre','user_rating':'rating'})\n",
    "\n",
    "Google_sub['platform'] = 'Google'\n",
    "Apple_sub['platform']  = 'Apple'\n",
    "\n",
    "Google_sub.head(2), Apple_sub.head(2)"
   ]
  },
  {
   "cell_type": "markdown",
   "id": "7b997af0",
   "metadata": {},
   "source": [
    "### 2c. Concatenate into a single dataframe"
   ]
  },
  {
   "cell_type": "code",
   "execution_count": 15,
   "id": "6bd2307e",
   "metadata": {},
   "outputs": [
    {
     "data": {
      "text/plain": [
       "((18037, 5),\n",
       "           genre  rating  rating_count_tot  price platform\n",
       " 0         Games  4.0000             21292 3.9900    Apple\n",
       " 1  Productivity  4.0000            161065 0.0000    Apple\n",
       " 2       Weather  3.5000            188583 0.0000    Apple)"
      ]
     },
     "execution_count": 15,
     "metadata": {},
     "output_type": "execute_result"
    }
   ],
   "source": [
    "apps = pd.concat([Apple_sub[['genre','rating','rating_count_tot','price','platform']].copy(),\n",
    "                  Google_sub[['genre','rating','rating_count_tot','price','platform']].copy()],\n",
    "                 ignore_index=True)\n",
    "apps.shape, apps.head(3)"
   ]
  },
  {
   "cell_type": "markdown",
   "id": "db6989e5",
   "metadata": {},
   "source": [
    "### 2d. Drop rows without ratings or reviews"
   ]
  },
  {
   "cell_type": "code",
   "execution_count": 16,
   "id": "fe45f3ad",
   "metadata": {},
   "outputs": [
    {
     "data": {
      "text/plain": [
       "(18037, 16563)"
      ]
     },
     "execution_count": 16,
     "metadata": {},
     "output_type": "execute_result"
    }
   ],
   "source": [
    "apps_before = apps.shape[0]\n",
    "apps = apps.dropna(subset=['rating']).copy()\n",
    "apps = apps[apps['rating_count_tot'].notna()].copy()\n",
    "apps_after = apps.shape[0]\n",
    "apps_before, apps_after"
   ]
  },
  {
   "cell_type": "markdown",
   "id": "7889bc87",
   "metadata": {},
   "source": [
    "### 2e. Summary by platform"
   ]
  },
  {
   "cell_type": "code",
   "execution_count": 17,
   "id": "4676faf5",
   "metadata": {},
   "outputs": [
    {
     "data": {
      "text/html": [
       "<div>\n",
       "<style scoped>\n",
       "    .dataframe tbody tr th:only-of-type {\n",
       "        vertical-align: middle;\n",
       "    }\n",
       "\n",
       "    .dataframe tbody tr th {\n",
       "        vertical-align: top;\n",
       "    }\n",
       "\n",
       "    .dataframe thead th {\n",
       "        text-align: right;\n",
       "    }\n",
       "</style>\n",
       "<table border=\"1\" class=\"dataframe\">\n",
       "  <thead>\n",
       "    <tr style=\"text-align: right;\">\n",
       "      <th></th>\n",
       "      <th>count</th>\n",
       "      <th>mean</th>\n",
       "      <th>median</th>\n",
       "      <th>std</th>\n",
       "    </tr>\n",
       "    <tr>\n",
       "      <th>platform</th>\n",
       "      <th></th>\n",
       "      <th></th>\n",
       "      <th></th>\n",
       "      <th></th>\n",
       "    </tr>\n",
       "  </thead>\n",
       "  <tbody>\n",
       "    <tr>\n",
       "      <th>Apple</th>\n",
       "      <td>7197</td>\n",
       "      <td>3.5270</td>\n",
       "      <td>4.0000</td>\n",
       "      <td>1.5180</td>\n",
       "    </tr>\n",
       "    <tr>\n",
       "      <th>Google</th>\n",
       "      <td>9366</td>\n",
       "      <td>4.1920</td>\n",
       "      <td>4.3000</td>\n",
       "      <td>0.5150</td>\n",
       "    </tr>\n",
       "  </tbody>\n",
       "</table>\n",
       "</div>"
      ],
      "text/plain": [
       "          count   mean  median    std\n",
       "platform                             \n",
       "Apple      7197 3.5270  4.0000 1.5180\n",
       "Google     9366 4.1920  4.3000 0.5150"
      ]
     },
     "execution_count": 17,
     "metadata": {},
     "output_type": "execute_result"
    }
   ],
   "source": [
    "summary = apps.groupby('platform')['rating'].agg(['count','mean','median','std']).round(3)\n",
    "summary"
   ]
  },
  {
   "cell_type": "markdown",
   "id": "e3780b63",
   "metadata": {},
   "source": [
    "### 2f. Visual comparison: histograms of ratings by platform"
   ]
  },
  {
   "cell_type": "code",
   "execution_count": 18,
   "id": "76a58c18",
   "metadata": {},
   "outputs": [
    {
     "data": {
      "image/png": "[encoded data removed]",
      "text/plain": [
       "<Figure size 600x400 with 1 Axes>"
      ]
     },
     "metadata": {},
     "output_type": "display_data"
    },
    {
     "data": {
      "image/png": "[encoded data removed]",
      "text/plain": [
       "<Figure size 600x400 with 1 Axes>"
      ]
     },
     "metadata": {},
     "output_type": "display_data"
    }
   ],
   "source": [
    "for plat in apps['platform'].unique():\n",
    "    s = apps.loc[apps['platform']==plat, 'rating'].dropna()\n",
    "    plt.figure(figsize=(6,4))\n",
    "    plt.hist(s, bins=30)\n",
    "    plt.title(f'Rating distribution — {plat}')\n",
    "    plt.xlabel('rating'); plt.ylabel('count')\n",
    "    plt.tight_layout()\n",
    "    plt.show()"
   ]
  },
  {
   "cell_type": "markdown",
   "id": "01da814b",
   "metadata": {},
   "source": [
    "The analytical and visual summaries suggest possible differences; we'll test statistically next."
   ]
  },
  {
   "cell_type": "markdown",
   "id": "c27ed587",
   "metadata": {},
   "source": [
    "## Stage 3 - Modelling"
   ]
  },
  {
   "cell_type": "markdown",
   "id": "44dda2a9",
   "metadata": {},
   "source": [
    "### 3a. Hypothesis formulation"
   ]
  },
  {
   "cell_type": "markdown",
   "id": "51da270d",
   "metadata": {},
   "source": [
    "We test whether the **mean rating** differs between Apple and Google apps.\n",
    "- **H₀:** μ_Apple − μ_Google = 0  \n",
    "- **H₁:** μ_Apple − μ_Google ≠ 0"
   ]
  },
  {
   "cell_type": "markdown",
   "id": "55645ea6",
   "metadata": {},
   "source": [
    "### 3b. Getting the distribution of the data"
   ]
  },
  {
   "cell_type": "code",
   "execution_count": 19,
   "id": "b1156520",
   "metadata": {},
   "outputs": [
    {
     "data": {
      "text/plain": [
       "(NormaltestResult(statistic=1671.3755748541048, pvalue=0.0),\n",
       " NormaltestResult(statistic=3678.6157187516856, pvalue=0.0))"
      ]
     },
     "execution_count": 19,
     "metadata": {},
     "output_type": "execute_result"
    }
   ],
   "source": [
    "apple_r = apps.loc[apps['platform']=='Apple','rating'].dropna().values\n",
    "google_r = apps.loc[apps['platform']=='Google','rating'].dropna().values\n",
    "\n",
    "# Normality checks (D’Agostino-Pearson)\n",
    "apple_normal = stats.normaltest(apple_r)\n",
    "google_normal = stats.normaltest(google_r)\n",
    "apple_normal, google_normal"
   ]
  },
  {
   "cell_type": "markdown",
   "id": "b18455e4",
   "metadata": {},
   "source": [
    "Normality often fails for ratings (bounded on [0,5]); we'll use a **permutation test** for the difference in means."
   ]
  },
  {
   "cell_type": "markdown",
   "id": "2f8e6977",
   "metadata": {},
   "source": [
    "### 3c. Permutation test setup"
   ]
  },
  {
   "cell_type": "code",
   "execution_count": 20,
   "id": "ceeb5f3c",
   "metadata": {},
   "outputs": [
    {
     "data": {
      "text/plain": [
       "(-0.6648017444808714,\n",
       " array([-0.00652872, -0.01132018, -0.00365384, -0.01257333,  0.02406292]))"
      ]
     },
     "execution_count": 20,
     "metadata": {},
     "output_type": "execute_result"
    }
   ],
   "source": [
    "rng = np.random.default_rng(42)\n",
    "n_perms = 10000\n",
    "\n",
    "obs_diff = apple_r.mean() - google_r.mean()\n",
    "\n",
    "combined = np.concatenate([apple_r, google_r])\n",
    "nA = len(apple_r)\n",
    "\n",
    "diffs = np.empty(n_perms)\n",
    "for i in range(n_perms):\n",
    "    perm = rng.permutation(combined)\n",
    "    A = perm[:nA]\n",
    "    B = perm[nA:]\n",
    "    diffs[i] = A.mean() - B.mean()\n",
    "\n",
    "obs_diff, diffs[:5]"
   ]
  },
  {
   "cell_type": "markdown",
   "id": "5c8a9515",
   "metadata": {},
   "source": [
    "### 3d. Visualize the null distribution and mark the observed difference"
   ]
  },
  {
   "cell_type": "code",
   "execution_count": 21,
   "id": "b74f03a0",
   "metadata": {},
   "outputs": [
    {
     "data": {
      "image/png": "[encoded data removed]",
      "text/plain": [
       "<Figure size 700x400 with 1 Axes>"
      ]
     },
     "metadata": {},
     "output_type": "display_data"
    }
   ],
   "source": [
    "plt.figure(figsize=(7,4))\n",
    "plt.hist(diffs, bins=40)\n",
    "plt.axvline(obs_diff, linestyle='--')\n",
    "plt.title('Null distribution of mean differences (Apple − Google)')\n",
    "plt.xlabel('Mean difference'); plt.ylabel('Count')\n",
    "plt.tight_layout(); plt.show()"
   ]
  },
  {
   "cell_type": "markdown",
   "id": "d667dd4f",
   "metadata": {},
   "source": [
    "### 3e. Two-sided p-value"
   ]
  },
  {
   "cell_type": "code",
   "execution_count": 22,
   "id": "0d82fb38",
   "metadata": {},
   "outputs": [
    {
     "data": {
      "text/plain": [
       "(-0.6648017444808714, 0.0)"
      ]
     },
     "execution_count": 22,
     "metadata": {},
     "output_type": "execute_result"
    }
   ],
   "source": [
    "p_val = (np.abs(diffs) >= np.abs(obs_diff)).mean()\n",
    "obs_diff, p_val"
   ]
  },
  {
   "cell_type": "markdown",
   "id": "035f9e4e",
   "metadata": {},
   "source": [
    "## Stage 4 -  Evaluating and concluding"
   ]
  },
  {
   "cell_type": "markdown",
   "id": "18fd2b38",
   "metadata": {},
   "source": [
    "### 4a. What is our conclusion?"
   ]
  },
  {
   "cell_type": "code",
   "execution_count": 23,
   "id": "8d346169",
   "metadata": {},
   "outputs": [
    {
     "name": "stdout",
     "output_type": "stream",
     "text": [
      "Observed mean difference (Apple − Google) = -0.6648\n",
      "Permutation p-value (two-sided)          = 0.0000\n",
      "Conclusion: Reject H0 at α=0.05; evidence of a difference in mean ratings.\n"
     ]
    }
   ],
   "source": [
    "print(f\"Observed mean difference (Apple − Google) = {obs_diff:.4f}\")\n",
    "print(f\"Permutation p-value (two-sided)          = {p_val:.4f}\")\n",
    "if p_val < 0.05:\n",
    "    print(\"Conclusion: Reject H0 at α=0.05; evidence of a difference in mean ratings.\")\n",
    "else:\n",
    "    print(\"Conclusion: Fail to reject H0 at α=0.05; no strong evidence of a difference.\")"
   ]
  },
  {
   "cell_type": "markdown",
   "id": "cd21f000",
   "metadata": {},
   "source": [
    "### 4b. What is our decision?"
   ]
  },
  {
   "cell_type": "markdown",
   "id": "f36afd46",
   "metadata": {},
   "source": [
    "We compare the p-value to α=0.05. If p ≤ 0.05, we **reject** H₀ and conclude there is a statistically significant difference. Otherwise, we **fail to reject** H₀."
   ]
  },
  {
   "cell_type": "markdown",
   "id": "d96d1d49",
   "metadata": {},
   "source": [
    "### 4c. Other statistical tests, and next steps"
   ]
  },
  {
   "cell_type": "markdown",
   "id": "5724cc8a",
   "metadata": {},
   "source": [
    "Because ratings are bounded and not perfectly normal, the permutation test is a robust choice.\n",
    "For follow-ups:\n",
    "- Compare medians via **Mann–Whitney U** test.\n",
    "- Model rating as a function of `genre`, `price`, and `rating_count_tot` with linear/robust regression.\n",
    "- Incorporate text features from app descriptions to improve explanatory power."
   ]
  }
 ],
 "metadata": {
  "kernelspec": {
   "display_name": "Python 3 (ipykernel)",
   "language": "python",
   "name": "python3"
  },
  "language_info": {
   "codemirror_mode": {
    "name": "ipython",
    "version": 3
   },
   "file_extension": ".py",
   "mimetype": "text/x-python",
   "name": "python",
   "nbconvert_exporter": "python",
   "pygments_lexer": "ipython3",
   "version": "3.9.13"
  }
 },
 "nbformat": 4,
 "nbformat_minor": 5
}
